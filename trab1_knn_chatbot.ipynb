{
  "cells": [
    {
      "cell_type": "markdown",
      "metadata": {
        "id": "view-in-github",
        "colab_type": "text"
      },
      "source": [
        "<a href=\"https://colab.research.google.com/github/TiagoSanti/trab1-knn-chatbot/blob/master/trab1_knn_chatbot.ipynb\" target=\"_parent\"><img src=\"https://colab.research.google.com/assets/colab-badge.svg\" alt=\"Open In Colab\"/></a>"
      ]
    },
    {
      "cell_type": "markdown",
      "metadata": {
        "id": "dW2uaK162vBc"
      },
      "source": [
        "# Chatbot de delivery com KNN\n",
        "Disciplina: Inteligência Artificial T03 <br>\n",
        "Professor: Edson Takashi Matsubara <br><br>\n",
        "Aluno: Tiago Clarintino Santi <br>\n",
        "RGA: 2021.1906.036-0<br>"
      ]
    },
    {
      "cell_type": "markdown",
      "metadata": {
        "id": "rIv96JPptt15"
      },
      "source": [
        "# Carregar dataset\n",
        "Formulário para coleta de dados: https://forms.gle/v531DJ2p37MmjMPG7"
      ]
    },
    {
      "cell_type": "code",
      "execution_count": null,
      "metadata": {
        "colab": {
          "base_uri": "https://localhost:8080/"
        },
        "id": "-pWZ71SplJwl",
        "outputId": "af28c651-82e1-4eb3-90fa-edea191d6173"
      },
      "outputs": [
        {
          "output_type": "stream",
          "name": "stdout",
          "text": [
            "Drive already mounted at /content/drive; to attempt to forcibly remount, call drive.mount(\"/content/drive\", force_remount=True).\n"
          ]
        }
      ],
      "source": [
        "# montando o drive\n",
        "from google.colab import drive\n",
        "drive.mount('/content/drive')"
      ]
    },
    {
      "cell_type": "code",
      "execution_count": null,
      "metadata": {
        "id": "KsCafghTt4VS"
      },
      "outputs": [],
      "source": [
        "import pandas as pd\n",
        "import numpy as np"
      ]
    },
    {
      "cell_type": "code",
      "execution_count": null,
      "metadata": {
        "id": "5PmY9STAyYDT"
      },
      "outputs": [],
      "source": [
        "# carregando .csv para um dataframe pandas\n",
        "df = pd.read_csv('/content/drive/MyDrive/IA/2022-1/trab1-knn-chatbot/Treinamento_de_Chatbot.csv')"
      ]
    },
    {
      "cell_type": "code",
      "execution_count": null,
      "metadata": {
        "colab": {
          "base_uri": "https://localhost:8080/",
          "height": 867
        },
        "id": "0xGIRwIRboc6",
        "outputId": "88e872d3-0136-4282-dbb8-6f1b25a498a9"
      },
      "outputs": [
        {
          "output_type": "execute_result",
          "data": {
            "text/plain": [
              "           Carimbo de data/hora               Pedir o cardápio  \\\n",
              "0   2022/03/22 2:51:28 PM GMT-4               me ve o cardapio   \n",
              "1   2022/03/22 5:33:20 PM GMT-4                  tem cardapio?   \n",
              "2   2022/03/22 5:36:18 PM GMT-4             o que tem no menu?   \n",
              "3   2022/03/22 6:38:39 PM GMT-4        o que ta servindo hoje?   \n",
              "4   2022/03/22 7:29:48 PM GMT-4               manda o cardapio   \n",
              "..                          ...                            ...   \n",
              "65  2022/03/27 1:58:24 PM GMT-4               Me vê o cardápio   \n",
              "66  2022/03/27 2:10:24 PM GMT-4                      Cardápio?   \n",
              "67  2022/03/27 3:04:34 PM GMT-4  Me vê o cardápio aí por favor   \n",
              "68  2022/03/27 3:06:43 PM GMT-4         Manda o menu ai chefia   \n",
              "69  2022/03/27 4:56:14 PM GMT-4                      Cardápio    \n",
              "\n",
              "   Adicionar um item ao pedido (seguindo as opções: xburguer, xsalada, xbacon, batata frita, suco de laranja, coca cola, guaraná)  \\\n",
              "0                                vou querer um xbacon                                                                               \n",
              "1                                    quero um x-bacon                                                                               \n",
              "2                                             x-bacon                                                                               \n",
              "3                                       um guaraná 2l                                                                               \n",
              "4                              manda uma coca 2 litro                                                                               \n",
              "..                                                ...                                                                               \n",
              "65                        Vou querer uma batata frita                                                                               \n",
              "66                              Gostaria de um xbacon                                                                               \n",
              "67                               Um X-bacon por favor                                                                               \n",
              "68               Lança um xbacon especial pra nois ai                                                                               \n",
              "69                                   2 batatas fritas                                                                               \n",
              "\n",
              "                      Pedir a conta          Forma de pagamento  \\\n",
              "0                     qual o total?                 no dinheiro   \n",
              "1                     quanto ficou?                         pix   \n",
              "2                     me ve a conta        vou pagar no crédito   \n",
              "3                        quanto da?                   no debito   \n",
              "4                       deu quanto?               passa débito?   \n",
              "..                              ...                         ...   \n",
              "65              Pode me vê a conta                      Cartão    \n",
              "66                 Me ve a dolorida     Aproximação no crédito    \n",
              "67           Trás a conta aí mestre          Vai ser no credito   \n",
              "68  Deu quanto essa brincadeira ai?  Vou pagar no cash, esquece   \n",
              "69                            Conta                         Pix   \n",
              "\n",
              "                       Cancelar o pedido  \\\n",
              "0                         quero cancelar   \n",
              "1                        cancelar pedido   \n",
              "2                         nao quero mais   \n",
              "3                                cancela   \n",
              "4                           cancela tudo   \n",
              "..                                   ...   \n",
              "65              Não, Cancela o pedido ai   \n",
              "66             Obrigado, não quero mais    \n",
              "67                 Quero mais n obrigado   \n",
              "68  Enchi o bucho meu rei quero mais não   \n",
              "69                              Cancelar   \n",
              "\n",
              "                    Inserir endereço para entrega  \\\n",
              "0                    rua barao do rio branco, 772   \n",
              "1               avenida tal, bairro ministro, 345   \n",
              "2   rua joao arinos, bairro jardim noroeste, 3457   \n",
              "3                     Rua Gonçalo de Carvalho, 21   \n",
              "4                          rua john doe numero 69   \n",
              "..                                            ...   \n",
              "65                    Rua antilhon ribeiro soares   \n",
              "66                              Rua afro puga 147   \n",
              "67                           Rua aguardo Cury 728   \n",
              "68            Rua Onde a Fome Habita, número 123    \n",
              "69                            Av mato grosso, 544   \n",
              "\n",
              "           Acompanhar status do pedido  \n",
              "0                    onde o pedido ta?  \n",
              "1               o pedido ta a caminho?  \n",
              "2                o entregador já saiu?  \n",
              "3               localizacao entregador  \n",
              "4                         ta vindo ja?  \n",
              "..                                 ...  \n",
              "65               Localização do pedido  \n",
              "66  Gostaria de saber se esta chegando  \n",
              "67          Como está indo meu pedido?  \n",
              "68              Aonde que tá o pacote?  \n",
              "69                              Status  \n",
              "\n",
              "[70 rows x 8 columns]"
            ],
            "text/html": [
              "\n",
              "  <div id=\"df-8b7c6f8f-a5e7-4285-9b9f-1272e89f4d98\">\n",
              "    <div class=\"colab-df-container\">\n",
              "      <div>\n",
              "<style scoped>\n",
              "    .dataframe tbody tr th:only-of-type {\n",
              "        vertical-align: middle;\n",
              "    }\n",
              "\n",
              "    .dataframe tbody tr th {\n",
              "        vertical-align: top;\n",
              "    }\n",
              "\n",
              "    .dataframe thead th {\n",
              "        text-align: right;\n",
              "    }\n",
              "</style>\n",
              "<table border=\"1\" class=\"dataframe\">\n",
              "  <thead>\n",
              "    <tr style=\"text-align: right;\">\n",
              "      <th></th>\n",
              "      <th>Carimbo de data/hora</th>\n",
              "      <th>Pedir o cardápio</th>\n",
              "      <th>Adicionar um item ao pedido (seguindo as opções: xburguer, xsalada, xbacon, batata frita, suco de laranja, coca cola, guaraná)</th>\n",
              "      <th>Pedir a conta</th>\n",
              "      <th>Forma de pagamento</th>\n",
              "      <th>Cancelar o pedido</th>\n",
              "      <th>Inserir endereço para entrega</th>\n",
              "      <th>Acompanhar status do pedido</th>\n",
              "    </tr>\n",
              "  </thead>\n",
              "  <tbody>\n",
              "    <tr>\n",
              "      <th>0</th>\n",
              "      <td>2022/03/22 2:51:28 PM GMT-4</td>\n",
              "      <td>me ve o cardapio</td>\n",
              "      <td>vou querer um xbacon</td>\n",
              "      <td>qual o total?</td>\n",
              "      <td>no dinheiro</td>\n",
              "      <td>quero cancelar</td>\n",
              "      <td>rua barao do rio branco, 772</td>\n",
              "      <td>onde o pedido ta?</td>\n",
              "    </tr>\n",
              "    <tr>\n",
              "      <th>1</th>\n",
              "      <td>2022/03/22 5:33:20 PM GMT-4</td>\n",
              "      <td>tem cardapio?</td>\n",
              "      <td>quero um x-bacon</td>\n",
              "      <td>quanto ficou?</td>\n",
              "      <td>pix</td>\n",
              "      <td>cancelar pedido</td>\n",
              "      <td>avenida tal, bairro ministro, 345</td>\n",
              "      <td>o pedido ta a caminho?</td>\n",
              "    </tr>\n",
              "    <tr>\n",
              "      <th>2</th>\n",
              "      <td>2022/03/22 5:36:18 PM GMT-4</td>\n",
              "      <td>o que tem no menu?</td>\n",
              "      <td>x-bacon</td>\n",
              "      <td>me ve a conta</td>\n",
              "      <td>vou pagar no crédito</td>\n",
              "      <td>nao quero mais</td>\n",
              "      <td>rua joao arinos, bairro jardim noroeste, 3457</td>\n",
              "      <td>o entregador já saiu?</td>\n",
              "    </tr>\n",
              "    <tr>\n",
              "      <th>3</th>\n",
              "      <td>2022/03/22 6:38:39 PM GMT-4</td>\n",
              "      <td>o que ta servindo hoje?</td>\n",
              "      <td>um guaraná 2l</td>\n",
              "      <td>quanto da?</td>\n",
              "      <td>no debito</td>\n",
              "      <td>cancela</td>\n",
              "      <td>Rua Gonçalo de Carvalho, 21</td>\n",
              "      <td>localizacao entregador</td>\n",
              "    </tr>\n",
              "    <tr>\n",
              "      <th>4</th>\n",
              "      <td>2022/03/22 7:29:48 PM GMT-4</td>\n",
              "      <td>manda o cardapio</td>\n",
              "      <td>manda uma coca 2 litro</td>\n",
              "      <td>deu quanto?</td>\n",
              "      <td>passa débito?</td>\n",
              "      <td>cancela tudo</td>\n",
              "      <td>rua john doe numero 69</td>\n",
              "      <td>ta vindo ja?</td>\n",
              "    </tr>\n",
              "    <tr>\n",
              "      <th>...</th>\n",
              "      <td>...</td>\n",
              "      <td>...</td>\n",
              "      <td>...</td>\n",
              "      <td>...</td>\n",
              "      <td>...</td>\n",
              "      <td>...</td>\n",
              "      <td>...</td>\n",
              "      <td>...</td>\n",
              "    </tr>\n",
              "    <tr>\n",
              "      <th>65</th>\n",
              "      <td>2022/03/27 1:58:24 PM GMT-4</td>\n",
              "      <td>Me vê o cardápio</td>\n",
              "      <td>Vou querer uma batata frita</td>\n",
              "      <td>Pode me vê a conta</td>\n",
              "      <td>Cartão</td>\n",
              "      <td>Não, Cancela o pedido ai</td>\n",
              "      <td>Rua antilhon ribeiro soares</td>\n",
              "      <td>Localização do pedido</td>\n",
              "    </tr>\n",
              "    <tr>\n",
              "      <th>66</th>\n",
              "      <td>2022/03/27 2:10:24 PM GMT-4</td>\n",
              "      <td>Cardápio?</td>\n",
              "      <td>Gostaria de um xbacon</td>\n",
              "      <td>Me ve a dolorida</td>\n",
              "      <td>Aproximação no crédito</td>\n",
              "      <td>Obrigado, não quero mais</td>\n",
              "      <td>Rua afro puga 147</td>\n",
              "      <td>Gostaria de saber se esta chegando</td>\n",
              "    </tr>\n",
              "    <tr>\n",
              "      <th>67</th>\n",
              "      <td>2022/03/27 3:04:34 PM GMT-4</td>\n",
              "      <td>Me vê o cardápio aí por favor</td>\n",
              "      <td>Um X-bacon por favor</td>\n",
              "      <td>Trás a conta aí mestre</td>\n",
              "      <td>Vai ser no credito</td>\n",
              "      <td>Quero mais n obrigado</td>\n",
              "      <td>Rua aguardo Cury 728</td>\n",
              "      <td>Como está indo meu pedido?</td>\n",
              "    </tr>\n",
              "    <tr>\n",
              "      <th>68</th>\n",
              "      <td>2022/03/27 3:06:43 PM GMT-4</td>\n",
              "      <td>Manda o menu ai chefia</td>\n",
              "      <td>Lança um xbacon especial pra nois ai</td>\n",
              "      <td>Deu quanto essa brincadeira ai?</td>\n",
              "      <td>Vou pagar no cash, esquece</td>\n",
              "      <td>Enchi o bucho meu rei quero mais não</td>\n",
              "      <td>Rua Onde a Fome Habita, número 123</td>\n",
              "      <td>Aonde que tá o pacote?</td>\n",
              "    </tr>\n",
              "    <tr>\n",
              "      <th>69</th>\n",
              "      <td>2022/03/27 4:56:14 PM GMT-4</td>\n",
              "      <td>Cardápio</td>\n",
              "      <td>2 batatas fritas</td>\n",
              "      <td>Conta</td>\n",
              "      <td>Pix</td>\n",
              "      <td>Cancelar</td>\n",
              "      <td>Av mato grosso, 544</td>\n",
              "      <td>Status</td>\n",
              "    </tr>\n",
              "  </tbody>\n",
              "</table>\n",
              "<p>70 rows × 8 columns</p>\n",
              "</div>\n",
              "      <button class=\"colab-df-convert\" onclick=\"convertToInteractive('df-8b7c6f8f-a5e7-4285-9b9f-1272e89f4d98')\"\n",
              "              title=\"Convert this dataframe to an interactive table.\"\n",
              "              style=\"display:none;\">\n",
              "        \n",
              "  <svg xmlns=\"http://www.w3.org/2000/svg\" height=\"24px\"viewBox=\"0 0 24 24\"\n",
              "       width=\"24px\">\n",
              "    <path d=\"M0 0h24v24H0V0z\" fill=\"none\"/>\n",
              "    <path d=\"M18.56 5.44l.94 2.06.94-2.06 2.06-.94-2.06-.94-.94-2.06-.94 2.06-2.06.94zm-11 1L8.5 8.5l.94-2.06 2.06-.94-2.06-.94L8.5 2.5l-.94 2.06-2.06.94zm10 10l.94 2.06.94-2.06 2.06-.94-2.06-.94-.94-2.06-.94 2.06-2.06.94z\"/><path d=\"M17.41 7.96l-1.37-1.37c-.4-.4-.92-.59-1.43-.59-.52 0-1.04.2-1.43.59L10.3 9.45l-7.72 7.72c-.78.78-.78 2.05 0 2.83L4 21.41c.39.39.9.59 1.41.59.51 0 1.02-.2 1.41-.59l7.78-7.78 2.81-2.81c.8-.78.8-2.07 0-2.86zM5.41 20L4 18.59l7.72-7.72 1.47 1.35L5.41 20z\"/>\n",
              "  </svg>\n",
              "      </button>\n",
              "      \n",
              "  <style>\n",
              "    .colab-df-container {\n",
              "      display:flex;\n",
              "      flex-wrap:wrap;\n",
              "      gap: 12px;\n",
              "    }\n",
              "\n",
              "    .colab-df-convert {\n",
              "      background-color: #E8F0FE;\n",
              "      border: none;\n",
              "      border-radius: 50%;\n",
              "      cursor: pointer;\n",
              "      display: none;\n",
              "      fill: #1967D2;\n",
              "      height: 32px;\n",
              "      padding: 0 0 0 0;\n",
              "      width: 32px;\n",
              "    }\n",
              "\n",
              "    .colab-df-convert:hover {\n",
              "      background-color: #E2EBFA;\n",
              "      box-shadow: 0px 1px 2px rgba(60, 64, 67, 0.3), 0px 1px 3px 1px rgba(60, 64, 67, 0.15);\n",
              "      fill: #174EA6;\n",
              "    }\n",
              "\n",
              "    [theme=dark] .colab-df-convert {\n",
              "      background-color: #3B4455;\n",
              "      fill: #D2E3FC;\n",
              "    }\n",
              "\n",
              "    [theme=dark] .colab-df-convert:hover {\n",
              "      background-color: #434B5C;\n",
              "      box-shadow: 0px 1px 3px 1px rgba(0, 0, 0, 0.15);\n",
              "      filter: drop-shadow(0px 1px 2px rgba(0, 0, 0, 0.3));\n",
              "      fill: #FFFFFF;\n",
              "    }\n",
              "  </style>\n",
              "\n",
              "      <script>\n",
              "        const buttonEl =\n",
              "          document.querySelector('#df-8b7c6f8f-a5e7-4285-9b9f-1272e89f4d98 button.colab-df-convert');\n",
              "        buttonEl.style.display =\n",
              "          google.colab.kernel.accessAllowed ? 'block' : 'none';\n",
              "\n",
              "        async function convertToInteractive(key) {\n",
              "          const element = document.querySelector('#df-8b7c6f8f-a5e7-4285-9b9f-1272e89f4d98');\n",
              "          const dataTable =\n",
              "            await google.colab.kernel.invokeFunction('convertToInteractive',\n",
              "                                                     [key], {});\n",
              "          if (!dataTable) return;\n",
              "\n",
              "          const docLinkHtml = 'Like what you see? Visit the ' +\n",
              "            '<a target=\"_blank\" href=https://colab.research.google.com/notebooks/data_table.ipynb>data table notebook</a>'\n",
              "            + ' to learn more about interactive tables.';\n",
              "          element.innerHTML = '';\n",
              "          dataTable['output_type'] = 'display_data';\n",
              "          await google.colab.output.renderOutput(dataTable, element);\n",
              "          const docLink = document.createElement('div');\n",
              "          docLink.innerHTML = docLinkHtml;\n",
              "          element.appendChild(docLink);\n",
              "        }\n",
              "      </script>\n",
              "    </div>\n",
              "  </div>\n",
              "  "
            ]
          },
          "metadata": {},
          "execution_count": 42
        }
      ],
      "source": [
        "df"
      ]
    },
    {
      "cell_type": "code",
      "execution_count": null,
      "metadata": {
        "colab": {
          "base_uri": "https://localhost:8080/"
        },
        "id": "vwwJ2H6Mio40",
        "outputId": "49ae642a-930e-42b9-c398-1b692204a3c5"
      },
      "outputs": [
        {
          "output_type": "execute_result",
          "data": {
            "text/plain": [
              "(70, 8)"
            ]
          },
          "metadata": {},
          "execution_count": 43
        }
      ],
      "source": [
        "df.shape"
      ]
    },
    {
      "cell_type": "code",
      "execution_count": null,
      "metadata": {
        "id": "cpwcLAQJnmRF"
      },
      "outputs": [],
      "source": [
        "# removendo coluna de timespan e renomeando coluna de adição de pedidos\n",
        "df = df.drop(columns='Carimbo de data/hora')\n",
        "df = df.rename(columns = {\n",
        "    'Adicionar um item ao pedido (seguindo as opções: xburguer, xsalada, xbacon, batata frita, suco de laranja, coca cola, guaraná)': 'Adicionar um item ao pedido',\n",
        "    'Forma de pagamento': 'Inserir forma de pagamento'}, inplace = False)"
      ]
    },
    {
      "cell_type": "code",
      "execution_count": null,
      "metadata": {
        "colab": {
          "base_uri": "https://localhost:8080/"
        },
        "id": "7j6Rad76kAn-",
        "outputId": "72fc7ad7-05ba-4f61-bf50-a9495d0fd49a"
      },
      "outputs": [
        {
          "output_type": "execute_result",
          "data": {
            "text/plain": [
              "['Pedir o cardápio',\n",
              " 'Adicionar um item ao pedido',\n",
              " 'Pedir a conta',\n",
              " 'Inserir forma de pagamento',\n",
              " 'Cancelar o pedido',\n",
              " 'Inserir endereço para entrega',\n",
              " 'Acompanhar status do pedido']"
            ]
          },
          "metadata": {},
          "execution_count": 45
        }
      ],
      "source": [
        "# armazenando intenções\n",
        "intentions = df.columns.to_list()\n",
        "intentions"
      ]
    },
    {
      "cell_type": "code",
      "execution_count": null,
      "metadata": {
        "id": "HCZ216utmmAH"
      },
      "outputs": [],
      "source": [
        "# armazenando X (dados) and Y (rótulos) globais\n",
        "x = []\n",
        "y = []\n",
        "\n",
        "for intention in intentions:\n",
        "  intention_values = df[intention].values.tolist()\n",
        "  for intention_value in intention_values:\n",
        "    x.append(intention_value)\n",
        "    y.append(intention)"
      ]
    },
    {
      "cell_type": "markdown",
      "metadata": {
        "id": "CdylqwPeuKPN"
      },
      "source": [
        "# Dividindo dataset em treino e teste"
      ]
    },
    {
      "cell_type": "markdown",
      "metadata": {
        "id": "WSF1MIp1U3Y2"
      },
      "source": [
        "## Holdout"
      ]
    },
    {
      "cell_type": "code",
      "execution_count": null,
      "metadata": {
        "id": "HoZHndn_uN_e"
      },
      "outputs": [],
      "source": [
        "import sklearn.model_selection as model_selection"
      ]
    },
    {
      "cell_type": "code",
      "execution_count": null,
      "metadata": {
        "id": "xZsOpol-vZj0"
      },
      "outputs": [],
      "source": [
        "# dividindo X e Y globais em 71,43% para treino e 28,57% para teste e validação\n",
        "xtrain, xtestval, ytrain, ytestval = model_selection.train_test_split(x, y, test_size=0.2857, shuffle=True, stratify=y, random_state=0)"
      ]
    },
    {
      "cell_type": "code",
      "execution_count": null,
      "metadata": {
        "id": "o6eZw7nkwBRI"
      },
      "outputs": [],
      "source": [
        "# dividindo X e Y de teste e validação em 50% cada\n",
        "xtest, xval, ytest, yval = model_selection.train_test_split(xtestval, ytestval, test_size=0.5, shuffle=True, stratify=ytestval, random_state=0)"
      ]
    },
    {
      "cell_type": "code",
      "execution_count": null,
      "metadata": {
        "colab": {
          "base_uri": "https://localhost:8080/"
        },
        "id": "-UBTaE3evbib",
        "outputId": "3d8c33bc-9b96-4253-80f2-fecb0b8f85df"
      },
      "outputs": [
        {
          "output_type": "stream",
          "name": "stdout",
          "text": [
            "X lenght: 490 (Proportion: 100.00%)\n",
            "\n",
            "Train lenght: 350 (Proportion: 71.43%)\n",
            "Validation lenght: 70 (Proportion: 14.29%)\n",
            "Test lenght: 70 (Proportion: 14.29%)\n"
          ]
        }
      ],
      "source": [
        "# visualizando tamanho dos dados\n",
        "print(f'X lenght: {len(x)} (Proportion: {len(x)/len(x)*100:.2f}%)\\n')\n",
        "print(f'Train lenght: {len(xtrain)} (Proportion: {len(xtrain)/len(x)*100:.2f}%)')\n",
        "print(f'Validation lenght: {len(xval)} (Proportion: {len(xval)/len(x)*100:.2f}%)')\n",
        "print(f'Test lenght: {len(xtest)} (Proportion: {len(xtest)/len(x)*100:.2f}%)')"
      ]
    },
    {
      "cell_type": "markdown",
      "metadata": {
        "id": "y16xBMgG7iH7"
      },
      "source": [
        "# Model induction and validation with parameters ajust"
      ]
    },
    {
      "cell_type": "code",
      "execution_count": null,
      "metadata": {
        "colab": {
          "base_uri": "https://localhost:8080/"
        },
        "id": "Maogm7nvOEvd",
        "outputId": "7550f87f-c70a-4bbb-f5d0-57acccb64b2e"
      },
      "outputs": [
        {
          "output_type": "stream",
          "name": "stdout",
          "text": [
            "Requirement already satisfied: sentence_transformers in /usr/local/lib/python3.7/dist-packages (2.2.0)\n",
            "Requirement already satisfied: nltk in /usr/local/lib/python3.7/dist-packages (from sentence_transformers) (3.2.5)\n",
            "Requirement already satisfied: torchvision in /usr/local/lib/python3.7/dist-packages (from sentence_transformers) (0.11.1+cu111)\n",
            "Requirement already satisfied: sentencepiece in /usr/local/lib/python3.7/dist-packages (from sentence_transformers) (0.1.96)\n",
            "Requirement already satisfied: huggingface-hub in /usr/local/lib/python3.7/dist-packages (from sentence_transformers) (0.5.1)\n",
            "Requirement already satisfied: scikit-learn in /usr/local/lib/python3.7/dist-packages (from sentence_transformers) (1.0.2)\n",
            "Requirement already satisfied: transformers<5.0.0,>=4.6.0 in /usr/local/lib/python3.7/dist-packages (from sentence_transformers) (4.18.0)\n",
            "Requirement already satisfied: scipy in /usr/local/lib/python3.7/dist-packages (from sentence_transformers) (1.4.1)\n",
            "Requirement already satisfied: numpy in /usr/local/lib/python3.7/dist-packages (from sentence_transformers) (1.21.5)\n",
            "Requirement already satisfied: torch>=1.6.0 in /usr/local/lib/python3.7/dist-packages (from sentence_transformers) (1.10.0+cu111)\n",
            "Requirement already satisfied: tqdm in /usr/local/lib/python3.7/dist-packages (from sentence_transformers) (4.63.0)\n",
            "Requirement already satisfied: typing-extensions in /usr/local/lib/python3.7/dist-packages (from torch>=1.6.0->sentence_transformers) (3.10.0.2)\n",
            "Requirement already satisfied: requests in /usr/local/lib/python3.7/dist-packages (from transformers<5.0.0,>=4.6.0->sentence_transformers) (2.23.0)\n",
            "Requirement already satisfied: filelock in /usr/local/lib/python3.7/dist-packages (from transformers<5.0.0,>=4.6.0->sentence_transformers) (3.6.0)\n",
            "Requirement already satisfied: packaging>=20.0 in /usr/local/lib/python3.7/dist-packages (from transformers<5.0.0,>=4.6.0->sentence_transformers) (21.3)\n",
            "Requirement already satisfied: importlib-metadata in /usr/local/lib/python3.7/dist-packages (from transformers<5.0.0,>=4.6.0->sentence_transformers) (4.11.3)\n",
            "Requirement already satisfied: pyyaml>=5.1 in /usr/local/lib/python3.7/dist-packages (from transformers<5.0.0,>=4.6.0->sentence_transformers) (6.0)\n",
            "Requirement already satisfied: regex!=2019.12.17 in /usr/local/lib/python3.7/dist-packages (from transformers<5.0.0,>=4.6.0->sentence_transformers) (2019.12.20)\n",
            "Requirement already satisfied: sacremoses in /usr/local/lib/python3.7/dist-packages (from transformers<5.0.0,>=4.6.0->sentence_transformers) (0.0.49)\n",
            "Requirement already satisfied: tokenizers!=0.11.3,<0.13,>=0.11.1 in /usr/local/lib/python3.7/dist-packages (from transformers<5.0.0,>=4.6.0->sentence_transformers) (0.11.6)\n",
            "Requirement already satisfied: pyparsing!=3.0.5,>=2.0.2 in /usr/local/lib/python3.7/dist-packages (from packaging>=20.0->transformers<5.0.0,>=4.6.0->sentence_transformers) (3.0.7)\n",
            "Requirement already satisfied: zipp>=0.5 in /usr/local/lib/python3.7/dist-packages (from importlib-metadata->transformers<5.0.0,>=4.6.0->sentence_transformers) (3.7.0)\n",
            "Requirement already satisfied: six in /usr/local/lib/python3.7/dist-packages (from nltk->sentence_transformers) (1.15.0)\n",
            "Requirement already satisfied: chardet<4,>=3.0.2 in /usr/local/lib/python3.7/dist-packages (from requests->transformers<5.0.0,>=4.6.0->sentence_transformers) (3.0.4)\n",
            "Requirement already satisfied: certifi>=2017.4.17 in /usr/local/lib/python3.7/dist-packages (from requests->transformers<5.0.0,>=4.6.0->sentence_transformers) (2021.10.8)\n",
            "Requirement already satisfied: urllib3!=1.25.0,!=1.25.1,<1.26,>=1.21.1 in /usr/local/lib/python3.7/dist-packages (from requests->transformers<5.0.0,>=4.6.0->sentence_transformers) (1.24.3)\n",
            "Requirement already satisfied: idna<3,>=2.5 in /usr/local/lib/python3.7/dist-packages (from requests->transformers<5.0.0,>=4.6.0->sentence_transformers) (2.10)\n",
            "Requirement already satisfied: joblib in /usr/local/lib/python3.7/dist-packages (from sacremoses->transformers<5.0.0,>=4.6.0->sentence_transformers) (1.1.0)\n",
            "Requirement already satisfied: click in /usr/local/lib/python3.7/dist-packages (from sacremoses->transformers<5.0.0,>=4.6.0->sentence_transformers) (7.1.2)\n",
            "Requirement already satisfied: threadpoolctl>=2.0.0 in /usr/local/lib/python3.7/dist-packages (from scikit-learn->sentence_transformers) (3.1.0)\n",
            "Requirement already satisfied: pillow!=8.3.0,>=5.3.0 in /usr/local/lib/python3.7/dist-packages (from torchvision->sentence_transformers) (7.1.2)\n"
          ]
        }
      ],
      "source": [
        "!pip install sentence_transformers"
      ]
    },
    {
      "cell_type": "code",
      "execution_count": null,
      "metadata": {
        "id": "HjJh5VrK_mys"
      },
      "outputs": [],
      "source": [
        "from sentence_transformers import SentenceTransformer\n",
        "import sklearn.neighbors as neighbors\n",
        "from sklearn.metrics import f1_score, classification_report, confusion_matrix"
      ]
    },
    {
      "cell_type": "code",
      "execution_count": null,
      "metadata": {
        "id": "0q9ADH6r1B6L"
      },
      "outputs": [],
      "source": [
        "# listas de parâmetros\n",
        "conv_models = ['multi-qa-mpnet-base-cos-v1', 'multi-qa-mpnet-base-dot-v1']\n",
        "weights = ['uniform', 'distance']\n",
        "algorithms = ['ball_tree', 'kd_tree', 'brute']\n",
        "\n",
        "best_score = 0\n",
        "# testando modelos de conversão de sentenças e parâmetros de classificador\n",
        "for conv_model in conv_models:\n",
        "  converter = SentenceTransformer(conv_model)\n",
        "  xtrain_embeddings = converter.encode(xtrain)\n",
        "  xval_embeddings = converter.encode(xval)\n",
        "\n",
        "  for k in range(1, 15):\n",
        "      for weight in weights:\n",
        "          for algorithm in algorithms:\n",
        "            model = neighbors.KNeighborsClassifier(n_neighbors=k, algorithm=algorithm, weights=weight)\n",
        "            model.fit(xtrain_embeddings, ytrain)\n",
        "            val_pred = model.predict(xval_embeddings)\n",
        "            score = f1_score(yval, val_pred, average = 'macro')\n",
        "            report = classification_report(yval, val_pred)\n",
        "\n",
        "            parameters = {\n",
        "                    'f1_score': score,\n",
        "                    'conv_model': conv_model,\n",
        "                    'n_neighbors': k,\n",
        "                    'algorithm': algorithm,\n",
        "                    'weight': weight,\n",
        "                    'classification_report': report\n",
        "                }\n",
        "\n",
        "            # visualizando parâmetros\n",
        "            for param, valor in parameters.items():\n",
        "              if param == 'classification_report':\n",
        "                print(f'{param}:\\n{valor}')\n",
        "              else:\n",
        "                print(f'{param}: {valor}')\n",
        "            print('===========================================================')\n",
        "            \n",
        "            # armazenando parâmetros do melhor resultado\n",
        "            if parameters['f1_score'] > best_score:\n",
        "                best_score = parameters['f1_score']\n",
        "                best_parameters = parameters"
      ]
    },
    {
      "cell_type": "code",
      "execution_count": null,
      "metadata": {
        "colab": {
          "base_uri": "https://localhost:8080/"
        },
        "id": "pgckyF4wFWui",
        "outputId": "1000fd9e-f296-4806-b530-1a3669c8b0e0"
      },
      "outputs": [
        {
          "output_type": "stream",
          "name": "stdout",
          "text": [
            "f1_score: 0.9856784819190835\n",
            "conv_model: multi-qa-mpnet-base-cos-v1\n",
            "n_neighbors: 1\n",
            "algorithm: ball_tree\n",
            "weight: uniform\n",
            "classification_report:\n",
            "                               precision    recall  f1-score   support\n",
            "\n",
            "  Acompanhar status do pedido       1.00      1.00      1.00        10\n",
            "  Adicionar um item ao pedido       1.00      1.00      1.00        10\n",
            "            Cancelar o pedido       1.00      0.90      0.95        10\n",
            "Inserir endereço para entrega       1.00      1.00      1.00        10\n",
            "   Inserir forma de pagamento       0.91      1.00      0.95        10\n",
            "                Pedir a conta       1.00      1.00      1.00        10\n",
            "             Pedir o cardápio       1.00      1.00      1.00        10\n",
            "\n",
            "                     accuracy                           0.99        70\n",
            "                    macro avg       0.99      0.99      0.99        70\n",
            "                 weighted avg       0.99      0.99      0.99        70\n",
            "\n"
          ]
        }
      ],
      "source": [
        "# visualizando parâmetros do melhor resultado\n",
        "for param, valor in best_parameters.items():\n",
        "    if param == 'classification_report':\n",
        "      print(f'{param}:\\n{valor}')\n",
        "    else:\n",
        "      print(f'{param}: {valor}')"
      ]
    },
    {
      "cell_type": "code",
      "execution_count": null,
      "metadata": {
        "colab": {
          "base_uri": "https://localhost:8080/"
        },
        "id": "NQASeX4JlA72",
        "outputId": "01f21fc1-8c00-497f-a88f-62a83ad0c9fa"
      },
      "outputs": [
        {
          "output_type": "execute_result",
          "data": {
            "text/plain": [
              "KNeighborsClassifier(algorithm='ball_tree', n_neighbors=1)"
            ]
          },
          "metadata": {},
          "execution_count": 55
        }
      ],
      "source": [
        "# instanciando conversor com os parâmetros do melhor resultado encontrado\n",
        "converter = SentenceTransformer(best_parameters['conv_model'])\n",
        "xtrain_embeddings = converter.encode(xtrain)\n",
        "xval_embeddings = converter.encode(xval)\n",
        "\n",
        "# instanciando classificador com os parâmetros do melhor resultado encontrado\n",
        "model = neighbors.KNeighborsClassifier(n_neighbors=best_parameters['n_neighbors'], algorithm=best_parameters['algorithm'], weights=best_parameters['weight'])\n",
        "model.fit(xtrain_embeddings, ytrain)"
      ]
    },
    {
      "cell_type": "code",
      "execution_count": null,
      "metadata": {
        "id": "83_zGOLCA8M4"
      },
      "outputs": [],
      "source": [
        "# Função de plot de matriz de confusão\n",
        "from sklearn.metrics import confusion_matrix\n",
        "import seaborn as sns\n",
        "\n",
        "def plot_cf(y, pred, title):\n",
        "  cf_matrix = confusion_matrix(y, pred)\n",
        "  ax = sns.heatmap(cf_matrix, annot=True)\n",
        "  ax.set_title(title)\n",
        "  ax.set_xlabel('\\nPredicted Values')\n",
        "  ax.set_ylabel('Actual Values\\n')\n",
        "  sns.set(font_scale=1.5, rc={'figure.figsize':(6,6)})"
      ]
    },
    {
      "cell_type": "code",
      "execution_count": null,
      "metadata": {
        "colab": {
          "base_uri": "https://localhost:8080/",
          "height": 784
        },
        "id": "sC_KWmxrsW-K",
        "outputId": "697e2d9b-5a72-47db-8bdc-dbf17b16cd74"
      },
      "outputs": [
        {
          "output_type": "execute_result",
          "data": {
            "text/plain": [
              "'Labels: 0 = Acompanhar \\\\ 1 = Adicionar \\\\ 2 = Cancelar \\\\ 3 = Pagamento \\\\ 4 = Endereço \\\\ 5 = Conta \\\\ 6 = Cardápio'"
            ],
            "application/vnd.google.colaboratory.intrinsic+json": {
              "type": "string"
            }
          },
          "metadata": {},
          "execution_count": 57
        },
        {
          "output_type": "display_data",
          "data": {
            "text/plain": [
              "<Figure size 864x864 with 2 Axes>"
            ],
            "image/png": "[encoded data removed]"
          },
          "metadata": {}
        }
      ],
      "source": [
        "# Classificação final do conjunto de validação e visualização da sua matriz de confusão\n",
        "val_pred = model.predict(xval_embeddings)\n",
        "\n",
        "plot_cf(yval, val_pred, 'Matriz de Confusão da Validação\\n')\n",
        "\n",
        "'''Labels: 0 = Acompanhar \\ 1 = Adicionar \\ 2 = Cancelar \\ 3 = Pagamento \\ 4 = Endereço \\ 5 = Conta \\ 6 = Cardápio'''"
      ]
    },
    {
      "cell_type": "code",
      "execution_count": null,
      "metadata": {
        "colab": {
          "base_uri": "https://localhost:8080/"
        },
        "id": "-rcqwdVUet0U",
        "outputId": "80811df0-0878-4283-bd63-ac61737e8e95"
      },
      "outputs": [
        {
          "output_type": "stream",
          "name": "stdout",
          "text": [
            "\"Vou embora\" - actual: Cancelar o pedido | pred: Inserir forma de pagamento\n"
          ]
        }
      ],
      "source": [
        "# visualizando classificações incorretas\n",
        "for i, j, k in zip(xval, yval, val_pred):\n",
        "  if j != k:\n",
        "    print(f'\\\"{i}\\\" - actual: {j} | pred: {k}')"
      ]
    },
    {
      "cell_type": "markdown",
      "metadata": {
        "id": "Y2-0PGbEroAR"
      },
      "source": [
        "# Teste do modelo"
      ]
    },
    {
      "cell_type": "code",
      "execution_count": null,
      "metadata": {
        "colab": {
          "base_uri": "https://localhost:8080/"
        },
        "id": "caEYzeEJtBy-",
        "outputId": "d0573df8-29fe-490c-8e1c-0cc9582315ff"
      },
      "outputs": [
        {
          "output_type": "stream",
          "name": "stdout",
          "text": [
            "                               precision    recall  f1-score   support\n",
            "\n",
            "  Acompanhar status do pedido       0.91      1.00      0.95        10\n",
            "  Adicionar um item ao pedido       1.00      0.90      0.95        10\n",
            "            Cancelar o pedido       1.00      1.00      1.00        10\n",
            "Inserir endereço para entrega       1.00      1.00      1.00        10\n",
            "   Inserir forma de pagamento       0.83      1.00      0.91        10\n",
            "                Pedir a conta       0.90      0.90      0.90        10\n",
            "             Pedir o cardápio       1.00      0.80      0.89        10\n",
            "\n",
            "                     accuracy                           0.94        70\n",
            "                    macro avg       0.95      0.94      0.94        70\n",
            "                 weighted avg       0.95      0.94      0.94        70\n",
            "\n"
          ]
        }
      ],
      "source": [
        "# testando modelo e visualizando as métricas de classificação\n",
        "xtest_embeddings = converter.encode(xtest)\n",
        "test_pred = model.predict(xtest_embeddings)\n",
        "print(classification_report(ytest, test_pred))"
      ]
    },
    {
      "cell_type": "code",
      "execution_count": null,
      "metadata": {
        "colab": {
          "base_uri": "https://localhost:8080/"
        },
        "id": "ms3SNU4UyL6c",
        "outputId": "c34b3581-f64d-4cef-c0df-25951f7a1a01"
      },
      "outputs": [
        {
          "output_type": "stream",
          "name": "stdout",
          "text": [
            "\"Por favor! Gostaria de ver o menu de Vcs\" | actual: Pedir o cardápio | pred: Inserir forma de pagamento\n",
            "\"o que ta servindo hoje?\" | actual: Pedir o cardápio | pred: Inserir forma de pagamento\n",
            "\"quanto que fica o pedido?\" | actual: Pedir a conta | pred: Acompanhar status do pedido\n",
            "\"Opa meu chefe / chefia / rei / patrão, me ve um xbacon por favor\" | actual: Adicionar um item ao pedido | pred: Pedir a conta\n"
          ]
        }
      ],
      "source": [
        "# visualizando classificações incorretas\n",
        "for i, j, k in zip(xtest, ytest, test_pred):\n",
        "  if j != k:\n",
        "    print(f'\\\"{i}\\\" | actual: {j} | pred: {k}')"
      ]
    },
    {
      "cell_type": "code",
      "execution_count": null,
      "metadata": {
        "colab": {
          "base_uri": "https://localhost:8080/",
          "height": 486
        },
        "id": "vfyeyIx2r2XS",
        "outputId": "ae5ea20a-e555-4851-b84d-6115f08e386e"
      },
      "outputs": [
        {
          "output_type": "execute_result",
          "data": {
            "text/plain": [
              "'Labels: 0 = Acompanhar \\\\ 1 = Adicionar \\\\ 2 = Cancelar \\\\ 3 = Pagamento \\\\ 4 = Endereço \\\\ 5 = Conta \\\\ 6 = Cardápio'"
            ],
            "application/vnd.google.colaboratory.intrinsic+json": {
              "type": "string"
            }
          },
          "metadata": {},
          "execution_count": 61
        },
        {
          "output_type": "display_data",
          "data": {
            "text/plain": [
              "<Figure size 432x432 with 2 Axes>"
            ],
            "image/png": "[encoded data removed]"
          },
          "metadata": {}
        }
      ],
      "source": [
        "# visualizando matriz de confusão do teste\n",
        "plot_cf(ytest, test_pred, 'Matriz de Confusão do Teste\\n')\n",
        "\n",
        "'''Labels: 0 = Acompanhar \\ 1 = Adicionar \\ 2 = Cancelar \\ 3 = Pagamento \\ 4 = Endereço \\ 5 = Conta \\ 6 = Cardápio'''"
      ]
    },
    {
      "cell_type": "markdown",
      "metadata": {
        "id": "6-991WXuuCTW"
      },
      "source": [
        "# Modelo final"
      ]
    },
    {
      "cell_type": "code",
      "execution_count": null,
      "metadata": {
        "colab": {
          "base_uri": "https://localhost:8080/"
        },
        "id": "nmMhy9DAuPco",
        "outputId": "064a6a90-dd43-4d3f-d397-40e2205ec0d4"
      },
      "outputs": [
        {
          "output_type": "execute_result",
          "data": {
            "text/plain": [
              "KNeighborsClassifier(algorithm='ball_tree', n_neighbors=1)"
            ]
          },
          "metadata": {},
          "execution_count": 62
        }
      ],
      "source": [
        "# usando o X global para ajustar modelo final\n",
        "x_embeddings = converter.encode(x)\n",
        "model.fit(x_embeddings, y)"
      ]
    },
    {
      "cell_type": "code",
      "execution_count": null,
      "metadata": {
        "colab": {
          "base_uri": "https://localhost:8080/"
        },
        "id": "_QXKoBZav6zK",
        "outputId": "2406135d-3b56-4419-9b49-027921368e28"
      },
      "outputs": [
        {
          "output_type": "execute_result",
          "data": {
            "text/plain": [
              "['assistant.joblib']"
            ]
          },
          "metadata": {},
          "execution_count": 63
        }
      ],
      "source": [
        "from joblib import dump\n",
        "\n",
        "# salvando modelo\n",
        "dump(model, 'assistant.joblib')"
      ]
    },
    {
      "cell_type": "markdown",
      "metadata": {
        "id": "2ojCcqGygkOF"
      },
      "source": [
        "# Visualização dos embeddings no espaço bidimensional para melhor compreenção dos dados\n"
      ]
    },
    {
      "cell_type": "code",
      "execution_count": null,
      "metadata": {
        "id": "tbc9OHq3gtok"
      },
      "outputs": [],
      "source": [
        "from sklearn.manifold import TSNE"
      ]
    },
    {
      "cell_type": "code",
      "execution_count": null,
      "metadata": {
        "colab": {
          "base_uri": "https://localhost:8080/",
          "height": 488
        },
        "id": "TchgedSZnORP",
        "outputId": "ce63dae8-9054-4d6d-a3b2-151b8e060146"
      },
      "outputs": [
        {
          "output_type": "execute_result",
          "data": {
            "text/plain": [
              "          0         1         2         3         4         5         6    \\\n",
              "0   -0.042302 -0.080740 -0.019424  0.002295  0.039779  0.015973 -0.057270   \n",
              "1   -0.042668 -0.126683 -0.021552  0.036235  0.023246  0.016179 -0.023684   \n",
              "2    0.019927 -0.047831 -0.027565  0.030975  0.006682  0.013319 -0.051742   \n",
              "3    0.040900  0.030878  0.011447 -0.034984  0.008294 -0.043747 -0.041313   \n",
              "4   -0.037413 -0.017442 -0.021262  0.034716  0.056038 -0.001293 -0.024708   \n",
              "..        ...       ...       ...       ...       ...       ...       ...   \n",
              "485 -0.046648  0.043795 -0.025076  0.015091  0.018485 -0.032823 -0.004057   \n",
              "486  0.011080 -0.027462  0.007213 -0.017313  0.019651 -0.000857 -0.050553   \n",
              "487 -0.055586  0.032199 -0.017201  0.006043  0.017732 -0.000057 -0.026420   \n",
              "488 -0.017692 -0.018859 -0.004791  0.009049  0.043462 -0.042503 -0.058222   \n",
              "489 -0.026365 -0.028171 -0.015992  0.014560 -0.015518 -0.030905 -0.018972   \n",
              "\n",
              "          7         8         9    ...       758       759       760  \\\n",
              "0    0.029143  0.011861  0.044707  ...  0.003281 -0.015734 -0.005248   \n",
              "1    0.038495 -0.036183  0.074047  ... -0.000080 -0.015019 -0.023161   \n",
              "2    0.031507  0.077401  0.011428  ... -0.026419  0.001530 -0.018310   \n",
              "3   -0.007684  0.030295  0.032690  ... -0.027183  0.014107 -0.018084   \n",
              "4    0.026631 -0.033145  0.043572  ...  0.013186  0.001140 -0.071851   \n",
              "..        ...       ...       ...  ...       ...       ...       ...   \n",
              "485  0.027164 -0.041706  0.065992  ... -0.000211 -0.002578 -0.081145   \n",
              "486  0.014394 -0.043853  0.029809  ...  0.031587  0.002605 -0.055637   \n",
              "487  0.020519  0.007702  0.049894  ... -0.024984 -0.009860 -0.020364   \n",
              "488  0.018511  0.003267  0.016319  ... -0.081677  0.001001 -0.077756   \n",
              "489  0.025601 -0.010334  0.023519  ...  0.052529 -0.000613 -0.028938   \n",
              "\n",
              "          761       762       763       764       765       766       767  \n",
              "0    0.010737 -0.032328  0.042499 -0.020214 -0.016232  0.011587  0.010797  \n",
              "1    0.009874 -0.017782  0.054402 -0.015491  0.006192 -0.026695  0.013210  \n",
              "2   -0.019967  0.001617 -0.035537 -0.024933  0.019251 -0.055526  0.021330  \n",
              "3    0.002141 -0.008370  0.032121 -0.036008 -0.009928 -0.040499  0.025190  \n",
              "4    0.009855 -0.052465  0.010703 -0.024173 -0.010468  0.015885  0.031970  \n",
              "..        ...       ...       ...       ...       ...       ...       ...  \n",
              "485  0.000628 -0.026250 -0.057388 -0.007896  0.033725  0.003932  0.027421  \n",
              "486 -0.004148  0.000073  0.015293 -0.028195  0.017668 -0.043824 -0.026509  \n",
              "487  0.033312 -0.033898 -0.021068 -0.038534  0.016233 -0.005862  0.022425  \n",
              "488  0.002482  0.014863  0.122654 -0.011431  0.007122  0.008244  0.059856  \n",
              "489  0.002231  0.010673 -0.029469 -0.006573 -0.003230 -0.020929 -0.032808  \n",
              "\n",
              "[490 rows x 768 columns]"
            ],
            "text/html": [
              "\n",
              "  <div id=\"df-c3b1b587-3d84-48b2-ad32-f278f27e3664\">\n",
              "    <div class=\"colab-df-container\">\n",
              "      <div>\n",
              "<style scoped>\n",
              "    .dataframe tbody tr th:only-of-type {\n",
              "        vertical-align: middle;\n",
              "    }\n",
              "\n",
              "    .dataframe tbody tr th {\n",
              "        vertical-align: top;\n",
              "    }\n",
              "\n",
              "    .dataframe thead th {\n",
              "        text-align: right;\n",
              "    }\n",
              "</style>\n",
              "<table border=\"1\" class=\"dataframe\">\n",
              "  <thead>\n",
              "    <tr style=\"text-align: right;\">\n",
              "      <th></th>\n",
              "      <th>0</th>\n",
              "      <th>1</th>\n",
              "      <th>2</th>\n",
              "      <th>3</th>\n",
              "      <th>4</th>\n",
              "      <th>5</th>\n",
              "      <th>6</th>\n",
              "      <th>7</th>\n",
              "      <th>8</th>\n",
              "      <th>9</th>\n",
              "      <th>...</th>\n",
              "      <th>758</th>\n",
              "      <th>759</th>\n",
              "      <th>760</th>\n",
              "      <th>761</th>\n",
              "      <th>762</th>\n",
              "      <th>763</th>\n",
              "      <th>764</th>\n",
              "      <th>765</th>\n",
              "      <th>766</th>\n",
              "      <th>767</th>\n",
              "    </tr>\n",
              "  </thead>\n",
              "  <tbody>\n",
              "    <tr>\n",
              "      <th>0</th>\n",
              "      <td>-0.042302</td>\n",
              "      <td>-0.080740</td>\n",
              "      <td>-0.019424</td>\n",
              "      <td>0.002295</td>\n",
              "      <td>0.039779</td>\n",
              "      <td>0.015973</td>\n",
              "      <td>-0.057270</td>\n",
              "      <td>0.029143</td>\n",
              "      <td>0.011861</td>\n",
              "      <td>0.044707</td>\n",
              "      <td>...</td>\n",
              "      <td>0.003281</td>\n",
              "      <td>-0.015734</td>\n",
              "      <td>-0.005248</td>\n",
              "      <td>0.010737</td>\n",
              "      <td>-0.032328</td>\n",
              "      <td>0.042499</td>\n",
              "      <td>-0.020214</td>\n",
              "      <td>-0.016232</td>\n",
              "      <td>0.011587</td>\n",
              "      <td>0.010797</td>\n",
              "    </tr>\n",
              "    <tr>\n",
              "      <th>1</th>\n",
              "      <td>-0.042668</td>\n",
              "      <td>-0.126683</td>\n",
              "      <td>-0.021552</td>\n",
              "      <td>0.036235</td>\n",
              "      <td>0.023246</td>\n",
              "      <td>0.016179</td>\n",
              "      <td>-0.023684</td>\n",
              "      <td>0.038495</td>\n",
              "      <td>-0.036183</td>\n",
              "      <td>0.074047</td>\n",
              "      <td>...</td>\n",
              "      <td>-0.000080</td>\n",
              "      <td>-0.015019</td>\n",
              "      <td>-0.023161</td>\n",
              "      <td>0.009874</td>\n",
              "      <td>-0.017782</td>\n",
              "      <td>0.054402</td>\n",
              "      <td>-0.015491</td>\n",
              "      <td>0.006192</td>\n",
              "      <td>-0.026695</td>\n",
              "      <td>0.013210</td>\n",
              "    </tr>\n",
              "    <tr>\n",
              "      <th>2</th>\n",
              "      <td>0.019927</td>\n",
              "      <td>-0.047831</td>\n",
              "      <td>-0.027565</td>\n",
              "      <td>0.030975</td>\n",
              "      <td>0.006682</td>\n",
              "      <td>0.013319</td>\n",
              "      <td>-0.051742</td>\n",
              "      <td>0.031507</td>\n",
              "      <td>0.077401</td>\n",
              "      <td>0.011428</td>\n",
              "      <td>...</td>\n",
              "      <td>-0.026419</td>\n",
              "      <td>0.001530</td>\n",
              "      <td>-0.018310</td>\n",
              "      <td>-0.019967</td>\n",
              "      <td>0.001617</td>\n",
              "      <td>-0.035537</td>\n",
              "      <td>-0.024933</td>\n",
              "      <td>0.019251</td>\n",
              "      <td>-0.055526</td>\n",
              "      <td>0.021330</td>\n",
              "    </tr>\n",
              "    <tr>\n",
              "      <th>3</th>\n",
              "      <td>0.040900</td>\n",
              "      <td>0.030878</td>\n",
              "      <td>0.011447</td>\n",
              "      <td>-0.034984</td>\n",
              "      <td>0.008294</td>\n",
              "      <td>-0.043747</td>\n",
              "      <td>-0.041313</td>\n",
              "      <td>-0.007684</td>\n",
              "      <td>0.030295</td>\n",
              "      <td>0.032690</td>\n",
              "      <td>...</td>\n",
              "      <td>-0.027183</td>\n",
              "      <td>0.014107</td>\n",
              "      <td>-0.018084</td>\n",
              "      <td>0.002141</td>\n",
              "      <td>-0.008370</td>\n",
              "      <td>0.032121</td>\n",
              "      <td>-0.036008</td>\n",
              "      <td>-0.009928</td>\n",
              "      <td>-0.040499</td>\n",
              "      <td>0.025190</td>\n",
              "    </tr>\n",
              "    <tr>\n",
              "      <th>4</th>\n",
              "      <td>-0.037413</td>\n",
              "      <td>-0.017442</td>\n",
              "      <td>-0.021262</td>\n",
              "      <td>0.034716</td>\n",
              "      <td>0.056038</td>\n",
              "      <td>-0.001293</td>\n",
              "      <td>-0.024708</td>\n",
              "      <td>0.026631</td>\n",
              "      <td>-0.033145</td>\n",
              "      <td>0.043572</td>\n",
              "      <td>...</td>\n",
              "      <td>0.013186</td>\n",
              "      <td>0.001140</td>\n",
              "      <td>-0.071851</td>\n",
              "      <td>0.009855</td>\n",
              "      <td>-0.052465</td>\n",
              "      <td>0.010703</td>\n",
              "      <td>-0.024173</td>\n",
              "      <td>-0.010468</td>\n",
              "      <td>0.015885</td>\n",
              "      <td>0.031970</td>\n",
              "    </tr>\n",
              "    <tr>\n",
              "      <th>...</th>\n",
              "      <td>...</td>\n",
              "      <td>...</td>\n",
              "      <td>...</td>\n",
              "      <td>...</td>\n",
              "      <td>...</td>\n",
              "      <td>...</td>\n",
              "      <td>...</td>\n",
              "      <td>...</td>\n",
              "      <td>...</td>\n",
              "      <td>...</td>\n",
              "      <td>...</td>\n",
              "      <td>...</td>\n",
              "      <td>...</td>\n",
              "      <td>...</td>\n",
              "      <td>...</td>\n",
              "      <td>...</td>\n",
              "      <td>...</td>\n",
              "      <td>...</td>\n",
              "      <td>...</td>\n",
              "      <td>...</td>\n",
              "      <td>...</td>\n",
              "    </tr>\n",
              "    <tr>\n",
              "      <th>485</th>\n",
              "      <td>-0.046648</td>\n",
              "      <td>0.043795</td>\n",
              "      <td>-0.025076</td>\n",
              "      <td>0.015091</td>\n",
              "      <td>0.018485</td>\n",
              "      <td>-0.032823</td>\n",
              "      <td>-0.004057</td>\n",
              "      <td>0.027164</td>\n",
              "      <td>-0.041706</td>\n",
              "      <td>0.065992</td>\n",
              "      <td>...</td>\n",
              "      <td>-0.000211</td>\n",
              "      <td>-0.002578</td>\n",
              "      <td>-0.081145</td>\n",
              "      <td>0.000628</td>\n",
              "      <td>-0.026250</td>\n",
              "      <td>-0.057388</td>\n",
              "      <td>-0.007896</td>\n",
              "      <td>0.033725</td>\n",
              "      <td>0.003932</td>\n",
              "      <td>0.027421</td>\n",
              "    </tr>\n",
              "    <tr>\n",
              "      <th>486</th>\n",
              "      <td>0.011080</td>\n",
              "      <td>-0.027462</td>\n",
              "      <td>0.007213</td>\n",
              "      <td>-0.017313</td>\n",
              "      <td>0.019651</td>\n",
              "      <td>-0.000857</td>\n",
              "      <td>-0.050553</td>\n",
              "      <td>0.014394</td>\n",
              "      <td>-0.043853</td>\n",
              "      <td>0.029809</td>\n",
              "      <td>...</td>\n",
              "      <td>0.031587</td>\n",
              "      <td>0.002605</td>\n",
              "      <td>-0.055637</td>\n",
              "      <td>-0.004148</td>\n",
              "      <td>0.000073</td>\n",
              "      <td>0.015293</td>\n",
              "      <td>-0.028195</td>\n",
              "      <td>0.017668</td>\n",
              "      <td>-0.043824</td>\n",
              "      <td>-0.026509</td>\n",
              "    </tr>\n",
              "    <tr>\n",
              "      <th>487</th>\n",
              "      <td>-0.055586</td>\n",
              "      <td>0.032199</td>\n",
              "      <td>-0.017201</td>\n",
              "      <td>0.006043</td>\n",
              "      <td>0.017732</td>\n",
              "      <td>-0.000057</td>\n",
              "      <td>-0.026420</td>\n",
              "      <td>0.020519</td>\n",
              "      <td>0.007702</td>\n",
              "      <td>0.049894</td>\n",
              "      <td>...</td>\n",
              "      <td>-0.024984</td>\n",
              "      <td>-0.009860</td>\n",
              "      <td>-0.020364</td>\n",
              "      <td>0.033312</td>\n",
              "      <td>-0.033898</td>\n",
              "      <td>-0.021068</td>\n",
              "      <td>-0.038534</td>\n",
              "      <td>0.016233</td>\n",
              "      <td>-0.005862</td>\n",
              "      <td>0.022425</td>\n",
              "    </tr>\n",
              "    <tr>\n",
              "      <th>488</th>\n",
              "      <td>-0.017692</td>\n",
              "      <td>-0.018859</td>\n",
              "      <td>-0.004791</td>\n",
              "      <td>0.009049</td>\n",
              "      <td>0.043462</td>\n",
              "      <td>-0.042503</td>\n",
              "      <td>-0.058222</td>\n",
              "      <td>0.018511</td>\n",
              "      <td>0.003267</td>\n",
              "      <td>0.016319</td>\n",
              "      <td>...</td>\n",
              "      <td>-0.081677</td>\n",
              "      <td>0.001001</td>\n",
              "      <td>-0.077756</td>\n",
              "      <td>0.002482</td>\n",
              "      <td>0.014863</td>\n",
              "      <td>0.122654</td>\n",
              "      <td>-0.011431</td>\n",
              "      <td>0.007122</td>\n",
              "      <td>0.008244</td>\n",
              "      <td>0.059856</td>\n",
              "    </tr>\n",
              "    <tr>\n",
              "      <th>489</th>\n",
              "      <td>-0.026365</td>\n",
              "      <td>-0.028171</td>\n",
              "      <td>-0.015992</td>\n",
              "      <td>0.014560</td>\n",
              "      <td>-0.015518</td>\n",
              "      <td>-0.030905</td>\n",
              "      <td>-0.018972</td>\n",
              "      <td>0.025601</td>\n",
              "      <td>-0.010334</td>\n",
              "      <td>0.023519</td>\n",
              "      <td>...</td>\n",
              "      <td>0.052529</td>\n",
              "      <td>-0.000613</td>\n",
              "      <td>-0.028938</td>\n",
              "      <td>0.002231</td>\n",
              "      <td>0.010673</td>\n",
              "      <td>-0.029469</td>\n",
              "      <td>-0.006573</td>\n",
              "      <td>-0.003230</td>\n",
              "      <td>-0.020929</td>\n",
              "      <td>-0.032808</td>\n",
              "    </tr>\n",
              "  </tbody>\n",
              "</table>\n",
              "<p>490 rows × 768 columns</p>\n",
              "</div>\n",
              "      <button class=\"colab-df-convert\" onclick=\"convertToInteractive('df-c3b1b587-3d84-48b2-ad32-f278f27e3664')\"\n",
              "              title=\"Convert this dataframe to an interactive table.\"\n",
              "              style=\"display:none;\">\n",
              "        \n",
              "  <svg xmlns=\"http://www.w3.org/2000/svg\" height=\"24px\"viewBox=\"0 0 24 24\"\n",
              "       width=\"24px\">\n",
              "    <path d=\"M0 0h24v24H0V0z\" fill=\"none\"/>\n",
              "    <path d=\"M18.56 5.44l.94 2.06.94-2.06 2.06-.94-2.06-.94-.94-2.06-.94 2.06-2.06.94zm-11 1L8.5 8.5l.94-2.06 2.06-.94-2.06-.94L8.5 2.5l-.94 2.06-2.06.94zm10 10l.94 2.06.94-2.06 2.06-.94-2.06-.94-.94-2.06-.94 2.06-2.06.94z\"/><path d=\"M17.41 7.96l-1.37-1.37c-.4-.4-.92-.59-1.43-.59-.52 0-1.04.2-1.43.59L10.3 9.45l-7.72 7.72c-.78.78-.78 2.05 0 2.83L4 21.41c.39.39.9.59 1.41.59.51 0 1.02-.2 1.41-.59l7.78-7.78 2.81-2.81c.8-.78.8-2.07 0-2.86zM5.41 20L4 18.59l7.72-7.72 1.47 1.35L5.41 20z\"/>\n",
              "  </svg>\n",
              "      </button>\n",
              "      \n",
              "  <style>\n",
              "    .colab-df-container {\n",
              "      display:flex;\n",
              "      flex-wrap:wrap;\n",
              "      gap: 12px;\n",
              "    }\n",
              "\n",
              "    .colab-df-convert {\n",
              "      background-color: #E8F0FE;\n",
              "      border: none;\n",
              "      border-radius: 50%;\n",
              "      cursor: pointer;\n",
              "      display: none;\n",
              "      fill: #1967D2;\n",
              "      height: 32px;\n",
              "      padding: 0 0 0 0;\n",
              "      width: 32px;\n",
              "    }\n",
              "\n",
              "    .colab-df-convert:hover {\n",
              "      background-color: #E2EBFA;\n",
              "      box-shadow: 0px 1px 2px rgba(60, 64, 67, 0.3), 0px 1px 3px 1px rgba(60, 64, 67, 0.15);\n",
              "      fill: #174EA6;\n",
              "    }\n",
              "\n",
              "    [theme=dark] .colab-df-convert {\n",
              "      background-color: #3B4455;\n",
              "      fill: #D2E3FC;\n",
              "    }\n",
              "\n",
              "    [theme=dark] .colab-df-convert:hover {\n",
              "      background-color: #434B5C;\n",
              "      box-shadow: 0px 1px 3px 1px rgba(0, 0, 0, 0.15);\n",
              "      filter: drop-shadow(0px 1px 2px rgba(0, 0, 0, 0.3));\n",
              "      fill: #FFFFFF;\n",
              "    }\n",
              "  </style>\n",
              "\n",
              "      <script>\n",
              "        const buttonEl =\n",
              "          document.querySelector('#df-c3b1b587-3d84-48b2-ad32-f278f27e3664 button.colab-df-convert');\n",
              "        buttonEl.style.display =\n",
              "          google.colab.kernel.accessAllowed ? 'block' : 'none';\n",
              "\n",
              "        async function convertToInteractive(key) {\n",
              "          const element = document.querySelector('#df-c3b1b587-3d84-48b2-ad32-f278f27e3664');\n",
              "          const dataTable =\n",
              "            await google.colab.kernel.invokeFunction('convertToInteractive',\n",
              "                                                     [key], {});\n",
              "          if (!dataTable) return;\n",
              "\n",
              "          const docLinkHtml = 'Like what you see? Visit the ' +\n",
              "            '<a target=\"_blank\" href=https://colab.research.google.com/notebooks/data_table.ipynb>data table notebook</a>'\n",
              "            + ' to learn more about interactive tables.';\n",
              "          element.innerHTML = '';\n",
              "          dataTable['output_type'] = 'display_data';\n",
              "          await google.colab.output.renderOutput(dataTable, element);\n",
              "          const docLink = document.createElement('div');\n",
              "          docLink.innerHTML = docLinkHtml;\n",
              "          element.appendChild(docLink);\n",
              "        }\n",
              "      </script>\n",
              "    </div>\n",
              "  </div>\n",
              "  "
            ]
          },
          "metadata": {},
          "execution_count": 65
        }
      ],
      "source": [
        "df = pd.DataFrame(x_embeddings)\n",
        "df"
      ]
    },
    {
      "cell_type": "code",
      "execution_count": null,
      "metadata": {
        "colab": {
          "base_uri": "https://localhost:8080/"
        },
        "id": "kGhvmK8Tgw5U",
        "outputId": "4c1afc1e-b37c-49c5-bfbf-be408f5bdfe6"
      },
      "outputs": [
        {
          "output_type": "stream",
          "name": "stderr",
          "text": [
            "/usr/local/lib/python3.7/dist-packages/sklearn/manifold/_t_sne.py:783: FutureWarning: The default initialization in TSNE will change from 'random' to 'pca' in 1.2.\n",
            "  FutureWarning,\n",
            "/usr/local/lib/python3.7/dist-packages/sklearn/manifold/_t_sne.py:793: FutureWarning: The default learning rate in TSNE will change from 200.0 to 'auto' in 1.2.\n",
            "  FutureWarning,\n"
          ]
        }
      ],
      "source": [
        "# definindo dimensão(n_components) desejada dos embeddings e ajustando tsne para o dataframe \n",
        "tsne = TSNE(n_components=2, random_state=0)\n",
        "df_tsne = pd.DataFrame(tsne.fit_transform(df))"
      ]
    },
    {
      "cell_type": "code",
      "execution_count": null,
      "metadata": {
        "colab": {
          "base_uri": "https://localhost:8080/",
          "height": 424
        },
        "id": "k9_SQoxLpvRL",
        "outputId": "1ade44d0-49fe-48fa-8eab-7f681b7d1e9b"
      },
      "outputs": [
        {
          "output_type": "execute_result",
          "data": {
            "text/plain": [
              "             X          Y                    Intenções\n",
              "0    11.037262 -26.261068             Pedir o cardápio\n",
              "1     8.957090 -29.281315             Pedir o cardápio\n",
              "2     4.010172  -6.156734             Pedir o cardápio\n",
              "3   -12.393595   3.991080             Pedir o cardápio\n",
              "4    13.989520 -25.933994             Pedir o cardápio\n",
              "..         ...        ...                          ...\n",
              "485 -20.485832   3.962318  Acompanhar status do pedido\n",
              "486 -20.941742  -5.153513  Acompanhar status do pedido\n",
              "487 -16.919086   0.753790  Acompanhar status do pedido\n",
              "488  -2.755344 -18.628151  Acompanhar status do pedido\n",
              "489   8.542235  27.262934  Acompanhar status do pedido\n",
              "\n",
              "[490 rows x 3 columns]"
            ],
            "text/html": [
              "\n",
              "  <div id=\"df-ef6bd3f4-9723-40d0-ab21-c528c590b679\">\n",
              "    <div class=\"colab-df-container\">\n",
              "      <div>\n",
              "<style scoped>\n",
              "    .dataframe tbody tr th:only-of-type {\n",
              "        vertical-align: middle;\n",
              "    }\n",
              "\n",
              "    .dataframe tbody tr th {\n",
              "        vertical-align: top;\n",
              "    }\n",
              "\n",
              "    .dataframe thead th {\n",
              "        text-align: right;\n",
              "    }\n",
              "</style>\n",
              "<table border=\"1\" class=\"dataframe\">\n",
              "  <thead>\n",
              "    <tr style=\"text-align: right;\">\n",
              "      <th></th>\n",
              "      <th>X</th>\n",
              "      <th>Y</th>\n",
              "      <th>Intenções</th>\n",
              "    </tr>\n",
              "  </thead>\n",
              "  <tbody>\n",
              "    <tr>\n",
              "      <th>0</th>\n",
              "      <td>11.037262</td>\n",
              "      <td>-26.261068</td>\n",
              "      <td>Pedir o cardápio</td>\n",
              "    </tr>\n",
              "    <tr>\n",
              "      <th>1</th>\n",
              "      <td>8.957090</td>\n",
              "      <td>-29.281315</td>\n",
              "      <td>Pedir o cardápio</td>\n",
              "    </tr>\n",
              "    <tr>\n",
              "      <th>2</th>\n",
              "      <td>4.010172</td>\n",
              "      <td>-6.156734</td>\n",
              "      <td>Pedir o cardápio</td>\n",
              "    </tr>\n",
              "    <tr>\n",
              "      <th>3</th>\n",
              "      <td>-12.393595</td>\n",
              "      <td>3.991080</td>\n",
              "      <td>Pedir o cardápio</td>\n",
              "    </tr>\n",
              "    <tr>\n",
              "      <th>4</th>\n",
              "      <td>13.989520</td>\n",
              "      <td>-25.933994</td>\n",
              "      <td>Pedir o cardápio</td>\n",
              "    </tr>\n",
              "    <tr>\n",
              "      <th>...</th>\n",
              "      <td>...</td>\n",
              "      <td>...</td>\n",
              "      <td>...</td>\n",
              "    </tr>\n",
              "    <tr>\n",
              "      <th>485</th>\n",
              "      <td>-20.485832</td>\n",
              "      <td>3.962318</td>\n",
              "      <td>Acompanhar status do pedido</td>\n",
              "    </tr>\n",
              "    <tr>\n",
              "      <th>486</th>\n",
              "      <td>-20.941742</td>\n",
              "      <td>-5.153513</td>\n",
              "      <td>Acompanhar status do pedido</td>\n",
              "    </tr>\n",
              "    <tr>\n",
              "      <th>487</th>\n",
              "      <td>-16.919086</td>\n",
              "      <td>0.753790</td>\n",
              "      <td>Acompanhar status do pedido</td>\n",
              "    </tr>\n",
              "    <tr>\n",
              "      <th>488</th>\n",
              "      <td>-2.755344</td>\n",
              "      <td>-18.628151</td>\n",
              "      <td>Acompanhar status do pedido</td>\n",
              "    </tr>\n",
              "    <tr>\n",
              "      <th>489</th>\n",
              "      <td>8.542235</td>\n",
              "      <td>27.262934</td>\n",
              "      <td>Acompanhar status do pedido</td>\n",
              "    </tr>\n",
              "  </tbody>\n",
              "</table>\n",
              "<p>490 rows × 3 columns</p>\n",
              "</div>\n",
              "      <button class=\"colab-df-convert\" onclick=\"convertToInteractive('df-ef6bd3f4-9723-40d0-ab21-c528c590b679')\"\n",
              "              title=\"Convert this dataframe to an interactive table.\"\n",
              "              style=\"display:none;\">\n",
              "        \n",
              "  <svg xmlns=\"http://www.w3.org/2000/svg\" height=\"24px\"viewBox=\"0 0 24 24\"\n",
              "       width=\"24px\">\n",
              "    <path d=\"M0 0h24v24H0V0z\" fill=\"none\"/>\n",
              "    <path d=\"M18.56 5.44l.94 2.06.94-2.06 2.06-.94-2.06-.94-.94-2.06-.94 2.06-2.06.94zm-11 1L8.5 8.5l.94-2.06 2.06-.94-2.06-.94L8.5 2.5l-.94 2.06-2.06.94zm10 10l.94 2.06.94-2.06 2.06-.94-2.06-.94-.94-2.06-.94 2.06-2.06.94z\"/><path d=\"M17.41 7.96l-1.37-1.37c-.4-.4-.92-.59-1.43-.59-.52 0-1.04.2-1.43.59L10.3 9.45l-7.72 7.72c-.78.78-.78 2.05 0 2.83L4 21.41c.39.39.9.59 1.41.59.51 0 1.02-.2 1.41-.59l7.78-7.78 2.81-2.81c.8-.78.8-2.07 0-2.86zM5.41 20L4 18.59l7.72-7.72 1.47 1.35L5.41 20z\"/>\n",
              "  </svg>\n",
              "      </button>\n",
              "      \n",
              "  <style>\n",
              "    .colab-df-container {\n",
              "      display:flex;\n",
              "      flex-wrap:wrap;\n",
              "      gap: 12px;\n",
              "    }\n",
              "\n",
              "    .colab-df-convert {\n",
              "      background-color: #E8F0FE;\n",
              "      border: none;\n",
              "      border-radius: 50%;\n",
              "      cursor: pointer;\n",
              "      display: none;\n",
              "      fill: #1967D2;\n",
              "      height: 32px;\n",
              "      padding: 0 0 0 0;\n",
              "      width: 32px;\n",
              "    }\n",
              "\n",
              "    .colab-df-convert:hover {\n",
              "      background-color: #E2EBFA;\n",
              "      box-shadow: 0px 1px 2px rgba(60, 64, 67, 0.3), 0px 1px 3px 1px rgba(60, 64, 67, 0.15);\n",
              "      fill: #174EA6;\n",
              "    }\n",
              "\n",
              "    [theme=dark] .colab-df-convert {\n",
              "      background-color: #3B4455;\n",
              "      fill: #D2E3FC;\n",
              "    }\n",
              "\n",
              "    [theme=dark] .colab-df-convert:hover {\n",
              "      background-color: #434B5C;\n",
              "      box-shadow: 0px 1px 3px 1px rgba(0, 0, 0, 0.15);\n",
              "      filter: drop-shadow(0px 1px 2px rgba(0, 0, 0, 0.3));\n",
              "      fill: #FFFFFF;\n",
              "    }\n",
              "  </style>\n",
              "\n",
              "      <script>\n",
              "        const buttonEl =\n",
              "          document.querySelector('#df-ef6bd3f4-9723-40d0-ab21-c528c590b679 button.colab-df-convert');\n",
              "        buttonEl.style.display =\n",
              "          google.colab.kernel.accessAllowed ? 'block' : 'none';\n",
              "\n",
              "        async function convertToInteractive(key) {\n",
              "          const element = document.querySelector('#df-ef6bd3f4-9723-40d0-ab21-c528c590b679');\n",
              "          const dataTable =\n",
              "            await google.colab.kernel.invokeFunction('convertToInteractive',\n",
              "                                                     [key], {});\n",
              "          if (!dataTable) return;\n",
              "\n",
              "          const docLinkHtml = 'Like what you see? Visit the ' +\n",
              "            '<a target=\"_blank\" href=https://colab.research.google.com/notebooks/data_table.ipynb>data table notebook</a>'\n",
              "            + ' to learn more about interactive tables.';\n",
              "          element.innerHTML = '';\n",
              "          dataTable['output_type'] = 'display_data';\n",
              "          await google.colab.output.renderOutput(dataTable, element);\n",
              "          const docLink = document.createElement('div');\n",
              "          docLink.innerHTML = docLinkHtml;\n",
              "          element.appendChild(docLink);\n",
              "        }\n",
              "      </script>\n",
              "    </div>\n",
              "  </div>\n",
              "  "
            ]
          },
          "metadata": {},
          "execution_count": 67
        }
      ],
      "source": [
        "# adicionando classe dos embeddings e nomeando colunas\n",
        "df_tsne['Intenções'] = y\n",
        "df_tsne.columns = ['X', 'Y', 'Intenções']\n",
        "df_tsne"
      ]
    },
    {
      "cell_type": "code",
      "execution_count": null,
      "metadata": {
        "colab": {
          "base_uri": "https://localhost:8080/",
          "height": 737
        },
        "id": "3dII_t0Mnt8l",
        "outputId": "e8345d01-4219-4250-e2ec-be7f185b390e"
      },
      "outputs": [
        {
          "output_type": "execute_result",
          "data": {
            "text/plain": [
              "<matplotlib.axes._subplots.AxesSubplot at 0x7fc92f022710>"
            ]
          },
          "metadata": {},
          "execution_count": 68
        },
        {
          "output_type": "display_data",
          "data": {
            "text/plain": [
              "<Figure size 864x864 with 1 Axes>"
            ],
            "image/png": "[encoded data removed]"
          },
          "metadata": {}
        }
      ],
      "source": [
        "# visualização bidimensional dos embeddings\n",
        "sns.set(rc={'figure.figsize':(12,12)})\n",
        "sns.set_style('white')\n",
        "sns.scatterplot(x=df_tsne['X'], y=df_tsne['Y'], hue=df_tsne['Intenções'])"
      ]
    },
    {
      "cell_type": "markdown",
      "metadata": {
        "id": "qeIgbLv0voH2"
      },
      "source": [
        "# Chatbot"
      ]
    },
    {
      "cell_type": "markdown",
      "metadata": {
        "id": "7RwoBT0IdqlF"
      },
      "source": [
        "<h2>O chatbot responde às seguintes intenções:</h3>\n",
        "<div>\n",
        "  <ul>\n",
        "    <li>Pedir o cardápio</li>\n",
        "    <li>Adicionar item ao pedido</li>\n",
        "    <li>Pedir a conta</li>\n",
        "    <li>Inserir endereço para entrega</li>\n",
        "    <li>Inserir forma de pagamento</li>\n",
        "    <li>Acompanhar status do pedido</li>\n",
        "    <li>Cancelar o pedido</li>\n",
        "  </ul>\n",
        "  <p> \n",
        "    Algumas entradas são tratadas de forma \"manual\" para melhor controle do fluxo do pedido.<br/>\n",
        "  </p>\n",
        "  <p>\n",
        "    Os itens são identificados pelas suas variações mais comuns, seguindo o dicionário abaixo:\n",
        "  </p>\n",
        "\n",
        "```\n",
        "items_variation = {\n",
        "    'xburguer': ['xburguers', 'xburgers'],\n",
        "    'xbacon': ['xbacons'],\n",
        "    'xsalada': ['xsaladas'],\n",
        "    'batata frita': ['batatas', 'fritas'],\n",
        "\n",
        "    'suco laranja': ['sucos', 'laranjas'],\n",
        "    'coca cola': ['cocas', 'coquinhas'],\n",
        "    'guarana': ['guaranas']\n",
        "}\n",
        "```\n",
        "\n",
        "  <p>\n",
        "    O item de entrada não será adicionado caso não esteja contido em alguma dessas variações.<br/>\n",
        "  </p>\n",
        "  <p>\n",
        "    O tempo de preparo e de entrega do pedido são calculados de forma aleatória em um intervalo de tempo arbitrário, em segundos, para simulação de visualização do progresso dos processos mencionados.\n",
        "  </p>\n",
        "</div>\n",
        "\n",
        "\n",
        "---\n",
        "\n",
        "\n",
        "<div>\n",
        "<h2>Cardápio:</h3>\n",
        "<div>\n",
        "  <h4>Lanches:</h4>\n",
        "  <ul>\n",
        "    <li>xburguer → R$12,50</li>\n",
        "    <li>xbacon → R$14,00</li>\n",
        "    <li>xsalada → R$15,00</li>\n",
        "    <li>batata frita → R$9,00</li>\n",
        "  <ul>\n",
        "</div>\n",
        "<div>\n",
        "  <h4>Bebidas:</h4>\n",
        "  <ul>\n",
        "    <li>suco de laranja → R$7,00</li>\n",
        "    <li>coca cola → R$6,00</li>\n",
        "    <li>guaraná → R$8,00</li>\n",
        "  </ul>\n",
        "</div>"
      ]
    },
    {
      "cell_type": "code",
      "execution_count": null,
      "metadata": {
        "id": "6-Gi5Lguv0hJ",
        "colab": {
          "base_uri": "https://localhost:8080/"
        },
        "outputId": "e76b0f90-87d2-4c1b-cedd-ff7b8c14b47b"
      },
      "outputs": [
        {
          "output_type": "stream",
          "name": "stdout",
          "text": [
            "Requirement already satisfied: unidecode in /usr/local/lib/python3.7/dist-packages (1.3.4)\n"
          ]
        }
      ],
      "source": [
        "!pip install unidecode"
      ]
    },
    {
      "cell_type": "code",
      "execution_count": null,
      "metadata": {
        "id": "SVEjrmq1NO5z"
      },
      "outputs": [],
      "source": [
        "import time\n",
        "import random\n",
        "from joblib import load\n",
        "from nltk.tokenize import TweetTokenizer\n",
        "from unidecode import unidecode\n",
        "from tqdm import notebook as tqdm\n",
        "tknzr = TweetTokenizer()"
      ]
    },
    {
      "cell_type": "code",
      "execution_count": null,
      "metadata": {
        "id": "2ZP8VYK0yx7q"
      },
      "outputs": [],
      "source": [
        "# definindo intenções Acompanhar, Adicionar, Cancelar, Pagamento, Endereço, Conta, Cardápio\n",
        "intentions = {\n",
        "    'CARDAPIO': 'Pedir o cardápio',\n",
        "    'ITEM': 'Adicionar um item ao pedido',\n",
        "    'CONTA': 'Pedir a conta',\n",
        "    'ENDERECO': 'Inserir endereço para entrega',\n",
        "    'PAGAMENTO': 'Inserir forma de pagamento',\n",
        "    'STATUS': 'Acompanhar status do pedido',\n",
        "    'CANCELAR': 'Cancelar o pedido',\n",
        "}\n",
        "\n",
        "# definindo itens do cardápio e algumas possíveis variações\n",
        "items_variation = {\n",
        "    'xburguer': ['xburguers', 'xburgers'],\n",
        "    'xbacon': ['xbacons'],\n",
        "    'xsalada': ['xsaladas'],\n",
        "    'batata frita': ['batatas', 'fritas'],\n",
        "\n",
        "    'suco laranja': ['sucos', 'laranjas'],\n",
        "    'coca cola': ['cocas', 'coquinhas'],\n",
        "    'guarana': ['guaranas']\n",
        "}\n",
        "\n",
        "# definindo alguns valores numéricos\n",
        "values = {'um': 1, 'uma': 1,\n",
        "             'dois': 2, 'duas': 2,\n",
        "             'tres': 3, 'quatro': 4,\n",
        "             'cinco': 5, 'seis': 6,\n",
        "             'sete': 7, 'oito': 8,\n",
        "             'nove': 9, 'dez': 10}\n",
        "\n",
        "# definindo cardápio\n",
        "menu = {\n",
        "    'xburguer': 12.50,\n",
        "    'xbacon': 14.00,\n",
        "    'xsalada': 15.00,\n",
        "    'batata frita': 9.00,\n",
        "\n",
        "    'suco laranja': 7.00,\n",
        "    'coca cola': 6.00,\n",
        "    'guarana': 8.00\n",
        "}\n",
        "\n",
        "# definindo métodos de pagamento\n",
        "payment_methods = ['pix',\n",
        "                   'credito',\n",
        "                   'debito',\n",
        "                   'dinheiro',\n",
        "                   'cartao']\n",
        "\n",
        "# definindo status para o pedido\n",
        "CANCELLED = 0\n",
        "ORDERING = 1\n",
        "COOKING = 2\n",
        "DELIVERING = 3\n",
        "DELIVERED = 4"
      ]
    },
    {
      "cell_type": "code",
      "execution_count": null,
      "metadata": {
        "id": "pgz94sBWwDgT"
      },
      "outputs": [],
      "source": [
        "def find_entities(user_input):\n",
        "  entities_found = []\n",
        "  tokens = tknzr.tokenize(user_input)\n",
        "\n",
        "  for token in tokens:\n",
        "      if not token.isnumeric() and len(token) > 1:\n",
        "        token = token.lower()\n",
        "        token = unidecode(token)\n",
        "\n",
        "        if token in values.keys():\n",
        "          entities_found.append(values[token])\n",
        "        else:\n",
        "          for key in items_variation:\n",
        "            item_list = [key]+items_variation[key]\n",
        "            for item in item_list:\n",
        "              if token in item:\n",
        "                if key == 'batata frita':\n",
        "                  if 'frita' in tokens: tokens.remove('frita')\n",
        "                  if 'fritas' in tokens: tokens.remove('fritas')\n",
        "                if key == 'suco laranja':\n",
        "                  if 'laranja' in tokens: tokens.remove('laranja')\n",
        "                entities_found.append(token)\n",
        "                break\n",
        "\n",
        "      elif token.isnumeric():\n",
        "        entities_found.append(token)\n",
        "          \n",
        "  return entities_found\n",
        "\n",
        "def get_key(item):\n",
        "    for key in items_variation:\n",
        "      item_list = [key]+items_variation[key]\n",
        "      for item_ in item_list:\n",
        "        if item in item_:\n",
        "          return key"
      ]
    },
    {
      "cell_type": "code",
      "execution_count": null,
      "metadata": {
        "id": "zxHHWMuL1AwQ"
      },
      "outputs": [],
      "source": [
        "class Order:\n",
        "  def __init__(self):\n",
        "    self.items = {\n",
        "        'xburguer': 0,\n",
        "        'xbacon': 0,\n",
        "        'xsalada': 0,\n",
        "        'batata frita': 0,\n",
        "\n",
        "        'suco laranja': 0,\n",
        "        'coca cola': 0,\n",
        "        'guarana': 0\n",
        "    }\n",
        "    self.payment_method = ''\n",
        "    self.address = ''\n",
        "    self.status = ORDERING\n",
        "    self.eta = None\n",
        "\n",
        "  def get_eta(self):\n",
        "    return self.eta-time()\n",
        "\n",
        "  def start_order(self):\n",
        "    self.status = COOKING\n",
        "    self.eta = random.randint(40, 60)\n",
        "    print('\\nSeu pedido foi enviado para a cozinha!\\n'\n",
        "          f'Tempo estimado para conclusão: {self.eta} segundos.\\n'\n",
        "           'Estarei te atualizando sobre o status do seu pedido.')\n",
        "\n",
        "  def start_delivery(self):\n",
        "    self.status = DELIVERING\n",
        "    self.eta = random.randint(10, 20)\n",
        "    print(f'Seu pedido saiu para entrega!\\n'\n",
        "           'Tempo estimado para conclusão: {self.eta} segundos.\\n'\n",
        "           'Estarei te atualizando sobre o status do seu pedido.')\n",
        "\n",
        "  def get_status(self):\n",
        "    status = self.status\n",
        "    if status == ORDERING:\n",
        "      print('Ainda não terminamos de anotar seu pedido.')\n",
        "    elif status == COOKING:\n",
        "      print('Seu pedido está sendo preparado pelo restaurante.')\n",
        "    elif status == DELIVERING:\n",
        "      print('Seu pedido está a caminho!')\n",
        "    elif status == DELIVERED:\n",
        "      print('Seu pedido foi entregue. Obrigado pela preferência!')\n",
        "\n",
        "  def check_info(self):\n",
        "    return self.payment_method != '' and self.address != '' and self.get_total() > 5\n",
        "\n",
        "  def get_total(self):\n",
        "    total = 5\n",
        "    for item, quantity in zip(self.items.keys(), self.items.values()):\n",
        "      total += quantity * menu[item]\n",
        "    return total\n",
        "\n",
        "  def set_payment_method(self, user_input):\n",
        "    self.payment_method = user_input\n",
        "\n",
        "  def set_address(self, user_input):\n",
        "    self.address = user_input\n",
        "\n",
        "  def show_items(self):\n",
        "    for item, quantity in zip(self.items.keys(), self.items.values()):\n",
        "      if quantity > 0:\n",
        "        print(f'Item: {item}, quantidade: {quantity}')\n",
        "    print()\n",
        "\n",
        "  def add_to_order_dict(self, entities):\n",
        "    i = 0\n",
        "    while i < len(entities):\n",
        "        if isinstance(entities[i], int) or entities[i].isnumeric():\n",
        "          try:\n",
        "            item = entities[i+1]\n",
        "            quantity = int(entities[i])\n",
        "            key = get_key(item)\n",
        "            if key in self.items.keys():\n",
        "              self.items[key] = quantity\n",
        "              i += 2\n",
        "            else:\n",
        "              i += 1\n",
        "          except IndexError:\n",
        "            print('Item não encontrado. Verifique se digitou corretamente.')\n",
        "            i = len(entities)\n",
        "            break\n",
        "        else:\n",
        "          item = entities[i]\n",
        "          key = get_key(item)\n",
        "          self.items[key] += 1\n",
        "          i += 1\n",
        "\n",
        "  def add_items(self, user_input):\n",
        "    entities_found = find_entities(user_input) \n",
        "    if len(entities_found) > 0:\n",
        "      self.add_to_order_dict(entities_found)\n",
        "    else:\n",
        "      print('Nenhum item foi reconhecido')\n",
        "\n",
        "  def reset_order(self):\n",
        "    self.__init__()"
      ]
    },
    {
      "cell_type": "code",
      "execution_count": null,
      "metadata": {
        "id": "H-EUQwM1u5ZA"
      },
      "outputs": [],
      "source": [
        "class Chatbot:\n",
        "  def __init__(self):\n",
        "    self.model = load('assistant.joblib')\n",
        "    print('Bem-vindo ao restaurante do Tiago! Como posso ajudar?')\n",
        "\n",
        "  def show_menu(self):\n",
        "    print('Este é o nosso cardápio:')\n",
        "    for key, value in zip(menu.keys(), menu.values()):\n",
        "      print(f'- {key} ___ R${value:.2f}')\n",
        "    print()\n",
        "\n",
        "  def get_intention(self, user_input):\n",
        "    return self.model.predict([converter.encode(user_input)])[0]"
      ]
    },
    {
      "cell_type": "code",
      "execution_count": null,
      "metadata": {
        "id": "p2puO27Dfuun"
      },
      "outputs": [],
      "source": [
        "def main():\n",
        "  chatbot = Chatbot()\n",
        "  order = Order()\n",
        "  quit = False\n",
        "\n",
        "  user_input = input()\n",
        "  while order.status == ORDERING and order.status != CANCELLED:\n",
        "    user_intention = chatbot.get_intention(user_input)\n",
        "\n",
        "    if user_intention == intentions['STATUS']:\n",
        "      order.get_status()\n",
        "    \n",
        "    if user_intention == intentions['CANCELAR']:\n",
        "      print('Tem certeza que deseja cancelar?', end='')\n",
        "      cancel = input('(Sim/Não): ')\n",
        "      cancel = unidecode(cancel.lower())\n",
        "      if cancel == 'sim':\n",
        "        order.reset_order()\n",
        "        print(f'Pedido cancelado. Volte sempre!')\n",
        "        order.status = CANCELLED\n",
        "      elif cancel == 'nao':\n",
        "        print(f'O que mais deseja fazer?', end='')\n",
        "\n",
        "    else:\n",
        "      if user_intention == intentions['CARDAPIO']:\n",
        "        chatbot.show_menu()\n",
        "\n",
        "      elif user_intention == intentions['ITEM']:\n",
        "        order.add_items(user_input)\n",
        "        if len(order.items.keys()) > 0:\n",
        "          print('\\nEstes são os itens adicionados ao seu pedido até agora: ')\n",
        "          order.show_items()\n",
        "\n",
        "      elif user_intention == intentions['CONTA']:\n",
        "        total = order.get_total()\n",
        "        print(f'\\nEste é o valor total: R${total:.2f}, incluindo a taxa de entrega fixa de R$5,00.')\n",
        "        if order.payment_method == '':\n",
        "          print('Qual a forma de pagamento? ', end='')\n",
        "\n",
        "      elif user_intention == intentions['PAGAMENTO']:\n",
        "        order.set_payment_method(user_input)\n",
        "        print(f'\\nMétodo de pagamento escolhido: {order.payment_method}')\n",
        "        if order.address == '':\n",
        "          print('Qual o endereço para a entrega? ', end='')\n",
        "\n",
        "      elif user_intention == intentions['ENDERECO']:\n",
        "        order.set_address(user_input)\n",
        "        print(f'\\nEndereço anotado: {order.address}')\n",
        "\n",
        "      if order.check_info():\n",
        "        print('Todas as informações do pedido estão preenchidas, podemos concluir o pedido? ', end='')\n",
        "        complete = input('(Sim/Não): ')\n",
        "        complete = unidecode(complete.lower())\n",
        "\n",
        "        if complete == 'sim':\n",
        "          total = order.get_total()\n",
        "          print(f'\\nO valor total do seu pedido é: R${total:.2f}, incluindo a taxa de entrega fixa de R$5,00. Confirma?', end='')\n",
        "\n",
        "          complete = input('(Sim/Não): ')\n",
        "          complete = unidecode(complete.lower())\n",
        "\n",
        "          if complete == 'sim':\n",
        "            order.start_order()\n",
        "          elif complete == 'nao':\n",
        "            print(f'O que mais deseja fazer? ', end='')\n",
        "        elif complete == 'nao':\n",
        "          print(f'O que mais deseja fazer? ', end='')\n",
        "\n",
        "    if order.status == ORDERING:\n",
        "      user_input = input()\n",
        "\n",
        "\n",
        "  if order.status == COOKING:\n",
        "    with tqdm.tqdm(total=order.eta, desc='Preparação do pedido', bar_format='{l_bar}{bar} Tempo estimado para conclusão: {remaining}') as pbar:\n",
        "      for sec in range(order.eta):\n",
        "        time.sleep(1)\n",
        "        pbar.update(1)\n",
        "    order.status = DELIVERING\n",
        "\n",
        "  if order.status == DELIVERING:\n",
        "    with tqdm.tqdm(total=order.eta, desc='À caminho da entrega!', bar_format='{l_bar}{bar} Tempo estimado para entrega: {remaining}') as pbar:\n",
        "      for sec in range(order.eta):\n",
        "        time.sleep(1)\n",
        "        pbar.update(1)\n",
        "    order.status = DELIVERED\n",
        "\n",
        "  if order.status == DELIVERED:\n",
        "    order.get_status()"
      ]
    },
    {
      "cell_type": "code",
      "source": [
        "main()"
      ],
      "metadata": {
        "colab": {
          "base_uri": "https://localhost:8080/",
          "height": 949,
          "referenced_widgets": [
            "5f0b7ab538894816b88f16531b79ac35",
            "d061d806a728402a8124b2ae3d3b5ba3",
            "3904b093b47d440caa5998c788d33586",
            "55369a45a78b4e8db8d6426185f51416",
            "bbde1c6205f24375acbb3cd1f7f63f31",
            "1564de8c36414636bc066863939df548",
            "60eb51a7f4b84d7681d7f08ad912e0f2",
            "8a89c624f040477f826bbecb66b439b8",
            "49144f117f7140f1a3d6b428b3185592",
            "5f5ab6e83d3548cdb964c988ab714f7d",
            "9b845a4fc19e49b1822914b863a7058a",
            "a833179eac9344fbb319445f38d0dced",
            "ce8d05fbe08b4dfd84312822e47908c4",
            "0683708d9a494782a14ef025a300c914",
            "3957d6909916407d9d51a6e799155f34",
            "cb096d4a588247769361dc28affb8c7c",
            "1382a99cf763484386e5eb34748bdaec",
            "906ce70482114d42bfc81a0da29ff838",
            "f6d4669a76804f48af7b05da6aaeaf3f",
            "e702d0e4a8aa476c90d9deb4fd943a26",
            "8d7c87d01a4346cda8b73852f1c458b6",
            "f0fc9a66fe6040e08c68f5e91ada28e3"
          ]
        },
        "id": "6rYvicdR-PzV",
        "outputId": "2954e68b-e202-4e49-a6c5-5fdda7879f73"
      },
      "execution_count": null,
      "outputs": [
        {
          "output_type": "stream",
          "name": "stdout",
          "text": [
            "Bem-vindo ao restaurante do Tiago! Como posso ajudar?\n",
            "xbacon\n",
            "\n",
            "Estes são os itens adicionados ao seu pedido até agora: \n",
            "Item: xbacon, quantidade: 1\n",
            "\n",
            "batata\n",
            "\n",
            "Estes são os itens adicionados ao seu pedido até agora: \n",
            "Item: xbacon, quantidade: 1\n",
            "Item: batata frita, quantidade: 1\n",
            "\n",
            "coca\n",
            "\n",
            "Estes são os itens adicionados ao seu pedido até agora: \n",
            "Item: xbacon, quantidade: 1\n",
            "Item: batata frita, quantidade: 1\n",
            "Item: coca cola, quantidade: 1\n",
            "\n",
            "coca\n",
            "\n",
            "Estes são os itens adicionados ao seu pedido até agora: \n",
            "Item: xbacon, quantidade: 1\n",
            "Item: batata frita, quantidade: 1\n",
            "Item: coca cola, quantidade: 2\n",
            "\n",
            "-1 coca\n",
            "\n",
            "Estes são os itens adicionados ao seu pedido até agora: \n",
            "Item: xbacon, quantidade: 1\n",
            "Item: batata frita, quantidade: 1\n",
            "Item: coca cola, quantidade: 1\n",
            "\n",
            "barao\n",
            "\n",
            "Endereço anotado: barao\n",
            "pix\n",
            "\n",
            "Método de pagamento escolhido: pix\n",
            "Todas as informações do pedido estão preenchidas, podemos concluir o pedido? (Sim/Não): nao\n",
            "O que mais deseja fazer? cartao\n",
            "\n",
            "Método de pagamento escolhido: cartao\n",
            "Todas as informações do pedido estão preenchidas, podemos concluir o pedido? (Sim/Não): sim\n",
            "\n",
            "O valor total do seu pedido é: R$34.00, incluindo a taxa de entrega fixa de R$5,00. Confirma?(Sim/Não): sim\n",
            "Seu pedido foi enviado para a cozinha!\n",
            "Tempo estimado para conclusão: 54 segundos.\n",
            "Estarei te atualizando sobre o status do seu pedido.\n"
          ]
        },
        {
          "output_type": "display_data",
          "data": {
            "text/plain": [
              "Preparação do pedido:   0%|           Tempo estimado para conclusão: ?"
            ],
            "application/vnd.jupyter.widget-view+json": {
              "version_major": 2,
              "version_minor": 0,
              "model_id": "5f0b7ab538894816b88f16531b79ac35"
            }
          },
          "metadata": {}
        },
        {
          "output_type": "display_data",
          "data": {
            "text/plain": [
              "À caminho da entrega!:   0%|           Tempo estimado para entrega: ?"
            ],
            "application/vnd.jupyter.widget-view+json": {
              "version_major": 2,
              "version_minor": 0,
              "model_id": "a833179eac9344fbb319445f38d0dced"
            }
          },
          "metadata": {}
        },
        {
          "output_type": "stream",
          "name": "stdout",
          "text": [
            "Seu pedido foi entregue. Obrigado pela preferência!\n"
          ]
        }
      ]
    },
    {
      "cell_type": "code",
      "source": [
        ""
      ],
      "metadata": {
        "id": "xyVyZlm1DMhf"
      },
      "execution_count": null,
      "outputs": []
    }
  ],
  "metadata": {
    "colab": {
      "collapsed_sections": [],
      "name": "trab1-knn-chatbot.ipynb",
      "provenance": [],
      "mount_file_id": "1ruYsnZDbJWaM6Svp6L-UQBi1AcTtJMVP",
      "authorship_tag": "ABX9TyNkBBtz4VmEQDieZjnTPKqX",
      "include_colab_link": true
    },
    "kernelspec": {
      "display_name": "Python 3",
      "name": "python3"
    },
    "language_info": {
      "name": "python"
    },
    "widgets": {
      "application/vnd.jupyter.widget-state+json": {
        "5f0b7ab538894816b88f16531b79ac35": {
          "model_module": "@jupyter-widgets/controls",
          "model_name": "HBoxModel",
          "model_module_version": "1.5.0",
          "state": {
            "_dom_classes": [],
            "_model_module": "@jupyter-widgets/controls",
            "_model_module_version": "1.5.0",
            "_model_name": "HBoxModel",
            "_view_count": null,
            "_view_module": "@jupyter-widgets/controls",
            "_view_module_version": "1.5.0",
            "_view_name": "HBoxView",
            "box_style": "",
            "children": [
              "IPY_MODEL_d061d806a728402a8124b2ae3d3b5ba3",
              "IPY_MODEL_3904b093b47d440caa5998c788d33586",
              "IPY_MODEL_55369a45a78b4e8db8d6426185f51416"
            ],
            "layout": "IPY_MODEL_bbde1c6205f24375acbb3cd1f7f63f31"
          }
        },
        "d061d806a728402a8124b2ae3d3b5ba3": {
          "model_module": "@jupyter-widgets/controls",
          "model_name": "HTMLModel",
          "model_module_version": "1.5.0",
          "state": {
            "_dom_classes": [],
            "_model_module": "@jupyter-widgets/controls",
            "_model_module_version": "1.5.0",
            "_model_name": "HTMLModel",
            "_view_count": null,
            "_view_module": "@jupyter-widgets/controls",
            "_view_module_version": "1.5.0",
            "_view_name": "HTMLView",
            "description": "",
            "description_tooltip": null,
            "layout": "IPY_MODEL_1564de8c36414636bc066863939df548",
            "placeholder": "​",
            "style": "IPY_MODEL_60eb51a7f4b84d7681d7f08ad912e0f2",
            "value": "Preparação do pedido: 100%"
          }
        },
        "3904b093b47d440caa5998c788d33586": {
          "model_module": "@jupyter-widgets/controls",
          "model_name": "FloatProgressModel",
          "model_module_version": "1.5.0",
          "state": {
            "_dom_classes": [],
            "_model_module": "@jupyter-widgets/controls",
            "_model_module_version": "1.5.0",
            "_model_name": "FloatProgressModel",
            "_view_count": null,
            "_view_module": "@jupyter-widgets/controls",
            "_view_module_version": "1.5.0",
            "_view_name": "ProgressView",
            "bar_style": "success",
            "description": "",
            "description_tooltip": null,
            "layout": "IPY_MODEL_8a89c624f040477f826bbecb66b439b8",
            "max": 54,
            "min": 0,
            "orientation": "horizontal",
            "style": "IPY_MODEL_49144f117f7140f1a3d6b428b3185592",
            "value": 54
          }
        },
        "55369a45a78b4e8db8d6426185f51416": {
          "model_module": "@jupyter-widgets/controls",
          "model_name": "HTMLModel",
          "model_module_version": "1.5.0",
          "state": {
            "_dom_classes": [],
            "_model_module": "@jupyter-widgets/controls",
            "_model_module_version": "1.5.0",
            "_model_name": "HTMLModel",
            "_view_count": null,
            "_view_module": "@jupyter-widgets/controls",
            "_view_module_version": "1.5.0",
            "_view_name": "HTMLView",
            "description": "",
            "description_tooltip": null,
            "layout": "IPY_MODEL_5f5ab6e83d3548cdb964c988ab714f7d",
            "placeholder": "​",
            "style": "IPY_MODEL_9b845a4fc19e49b1822914b863a7058a",
            "value": " Tempo estimado para conclusão: 00:00"
          }
        },
        "bbde1c6205f24375acbb3cd1f7f63f31": {
          "model_module": "@jupyter-widgets/base",
          "model_name": "LayoutModel",
          "model_module_version": "1.2.0",
          "state": {
            "_model_module": "@jupyter-widgets/base",
            "_model_module_version": "1.2.0",
            "_model_name": "LayoutModel",
            "_view_count": null,
            "_view_module": "@jupyter-widgets/base",
            "_view_module_version": "1.2.0",
            "_view_name": "LayoutView",
            "align_content": null,
            "align_items": null,
            "align_self": null,
            "border": null,
            "bottom": null,
            "display": null,
            "flex": null,
            "flex_flow": null,
            "grid_area": null,
            "grid_auto_columns": null,
            "grid_auto_flow": null,
            "grid_auto_rows": null,
            "grid_column": null,
            "grid_gap": null,
            "grid_row": null,
            "grid_template_areas": null,
            "grid_template_columns": null,
            "grid_template_rows": null,
            "height": null,
            "justify_content": null,
            "justify_items": null,
            "left": null,
            "margin": null,
            "max_height": null,
            "max_width": null,
            "min_height": null,
            "min_width": null,
            "object_fit": null,
            "object_position": null,
            "order": null,
            "overflow": null,
            "overflow_x": null,
            "overflow_y": null,
            "padding": null,
            "right": null,
            "top": null,
            "visibility": null,
            "width": null
          }
        },
        "1564de8c36414636bc066863939df548": {
          "model_module": "@jupyter-widgets/base",
          "model_name": "LayoutModel",
          "model_module_version": "1.2.0",
          "state": {
            "_model_module": "@jupyter-widgets/base",
            "_model_module_version": "1.2.0",
            "_model_name": "LayoutModel",
            "_view_count": null,
            "_view_module": "@jupyter-widgets/base",
            "_view_module_version": "1.2.0",
            "_view_name": "LayoutView",
            "align_content": null,
            "align_items": null,
            "align_self": null,
            "border": null,
            "bottom": null,
            "display": null,
            "flex": null,
            "flex_flow": null,
            "grid_area": null,
            "grid_auto_columns": null,
            "grid_auto_flow": null,
            "grid_auto_rows": null,
            "grid_column": null,
            "grid_gap": null,
            "grid_row": null,
            "grid_template_areas": null,
            "grid_template_columns": null,
            "grid_template_rows": null,
            "height": null,
            "justify_content": null,
            "justify_items": null,
            "left": null,
            "margin": null,
            "max_height": null,
            "max_width": null,
            "min_height": null,
            "min_width": null,
            "object_fit": null,
            "object_position": null,
            "order": null,
            "overflow": null,
            "overflow_x": null,
            "overflow_y": null,
            "padding": null,
            "right": null,
            "top": null,
            "visibility": null,
            "width": null
          }
        },
        "60eb51a7f4b84d7681d7f08ad912e0f2": {
          "model_module": "@jupyter-widgets/controls",
          "model_name": "DescriptionStyleModel",
          "model_module_version": "1.5.0",
          "state": {
            "_model_module": "@jupyter-widgets/controls",
            "_model_module_version": "1.5.0",
            "_model_name": "DescriptionStyleModel",
            "_view_count": null,
            "_view_module": "@jupyter-widgets/base",
            "_view_module_version": "1.2.0",
            "_view_name": "StyleView",
            "description_width": ""
          }
        },
        "8a89c624f040477f826bbecb66b439b8": {
          "model_module": "@jupyter-widgets/base",
          "model_name": "LayoutModel",
          "model_module_version": "1.2.0",
          "state": {
            "_model_module": "@jupyter-widgets/base",
            "_model_module_version": "1.2.0",
            "_model_name": "LayoutModel",
            "_view_count": null,
            "_view_module": "@jupyter-widgets/base",
            "_view_module_version": "1.2.0",
            "_view_name": "LayoutView",
            "align_content": null,
            "align_items": null,
            "align_self": null,
            "border": null,
            "bottom": null,
            "display": null,
            "flex": null,
            "flex_flow": null,
            "grid_area": null,
            "grid_auto_columns": null,
            "grid_auto_flow": null,
            "grid_auto_rows": null,
            "grid_column": null,
            "grid_gap": null,
            "grid_row": null,
            "grid_template_areas": null,
            "grid_template_columns": null,
            "grid_template_rows": null,
            "height": null,
            "justify_content": null,
            "justify_items": null,
            "left": null,
            "margin": null,
            "max_height": null,
            "max_width": null,
            "min_height": null,
            "min_width": null,
            "object_fit": null,
            "object_position": null,
            "order": null,
            "overflow": null,
            "overflow_x": null,
            "overflow_y": null,
            "padding": null,
            "right": null,
            "top": null,
            "visibility": null,
            "width": null
          }
        },
        "49144f117f7140f1a3d6b428b3185592": {
          "model_module": "@jupyter-widgets/controls",
          "model_name": "ProgressStyleModel",
          "model_module_version": "1.5.0",
          "state": {
            "_model_module": "@jupyter-widgets/controls",
            "_model_module_version": "1.5.0",
            "_model_name": "ProgressStyleModel",
            "_view_count": null,
            "_view_module": "@jupyter-widgets/base",
            "_view_module_version": "1.2.0",
            "_view_name": "StyleView",
            "bar_color": null,
            "description_width": ""
          }
        },
        "5f5ab6e83d3548cdb964c988ab714f7d": {
          "model_module": "@jupyter-widgets/base",
          "model_name": "LayoutModel",
          "model_module_version": "1.2.0",
          "state": {
            "_model_module": "@jupyter-widgets/base",
            "_model_module_version": "1.2.0",
            "_model_name": "LayoutModel",
            "_view_count": null,
            "_view_module": "@jupyter-widgets/base",
            "_view_module_version": "1.2.0",
            "_view_name": "LayoutView",
            "align_content": null,
            "align_items": null,
            "align_self": null,
            "border": null,
            "bottom": null,
            "display": null,
            "flex": null,
            "flex_flow": null,
            "grid_area": null,
            "grid_auto_columns": null,
            "grid_auto_flow": null,
            "grid_auto_rows": null,
            "grid_column": null,
            "grid_gap": null,
            "grid_row": null,
            "grid_template_areas": null,
            "grid_template_columns": null,
            "grid_template_rows": null,
            "height": null,
            "justify_content": null,
            "justify_items": null,
            "left": null,
            "margin": null,
            "max_height": null,
            "max_width": null,
            "min_height": null,
            "min_width": null,
            "object_fit": null,
            "object_position": null,
            "order": null,
            "overflow": null,
            "overflow_x": null,
            "overflow_y": null,
            "padding": null,
            "right": null,
            "top": null,
            "visibility": null,
            "width": null
          }
        },
        "9b845a4fc19e49b1822914b863a7058a": {
          "model_module": "@jupyter-widgets/controls",
          "model_name": "DescriptionStyleModel",
          "model_module_version": "1.5.0",
          "state": {
            "_model_module": "@jupyter-widgets/controls",
            "_model_module_version": "1.5.0",
            "_model_name": "DescriptionStyleModel",
            "_view_count": null,
            "_view_module": "@jupyter-widgets/base",
            "_view_module_version": "1.2.0",
            "_view_name": "StyleView",
            "description_width": ""
          }
        },
        "a833179eac9344fbb319445f38d0dced": {
          "model_module": "@jupyter-widgets/controls",
          "model_name": "HBoxModel",
          "model_module_version": "1.5.0",
          "state": {
            "_dom_classes": [],
            "_model_module": "@jupyter-widgets/controls",
            "_model_module_version": "1.5.0",
            "_model_name": "HBoxModel",
            "_view_count": null,
            "_view_module": "@jupyter-widgets/controls",
            "_view_module_version": "1.5.0",
            "_view_name": "HBoxView",
            "box_style": "",
            "children": [
              "IPY_MODEL_ce8d05fbe08b4dfd84312822e47908c4",
              "IPY_MODEL_0683708d9a494782a14ef025a300c914",
              "IPY_MODEL_3957d6909916407d9d51a6e799155f34"
            ],
            "layout": "IPY_MODEL_cb096d4a588247769361dc28affb8c7c"
          }
        },
        "ce8d05fbe08b4dfd84312822e47908c4": {
          "model_module": "@jupyter-widgets/controls",
          "model_name": "HTMLModel",
          "model_module_version": "1.5.0",
          "state": {
            "_dom_classes": [],
            "_model_module": "@jupyter-widgets/controls",
            "_model_module_version": "1.5.0",
            "_model_name": "HTMLModel",
            "_view_count": null,
            "_view_module": "@jupyter-widgets/controls",
            "_view_module_version": "1.5.0",
            "_view_name": "HTMLView",
            "description": "",
            "description_tooltip": null,
            "layout": "IPY_MODEL_1382a99cf763484386e5eb34748bdaec",
            "placeholder": "​",
            "style": "IPY_MODEL_906ce70482114d42bfc81a0da29ff838",
            "value": "À caminho da entrega!: 100%"
          }
        },
        "0683708d9a494782a14ef025a300c914": {
          "model_module": "@jupyter-widgets/controls",
          "model_name": "FloatProgressModel",
          "model_module_version": "1.5.0",
          "state": {
            "_dom_classes": [],
            "_model_module": "@jupyter-widgets/controls",
            "_model_module_version": "1.5.0",
            "_model_name": "FloatProgressModel",
            "_view_count": null,
            "_view_module": "@jupyter-widgets/controls",
            "_view_module_version": "1.5.0",
            "_view_name": "ProgressView",
            "bar_style": "success",
            "description": "",
            "description_tooltip": null,
            "layout": "IPY_MODEL_f6d4669a76804f48af7b05da6aaeaf3f",
            "max": 54,
            "min": 0,
            "orientation": "horizontal",
            "style": "IPY_MODEL_e702d0e4a8aa476c90d9deb4fd943a26",
            "value": 54
          }
        },
        "3957d6909916407d9d51a6e799155f34": {
          "model_module": "@jupyter-widgets/controls",
          "model_name": "HTMLModel",
          "model_module_version": "1.5.0",
          "state": {
            "_dom_classes": [],
            "_model_module": "@jupyter-widgets/controls",
            "_model_module_version": "1.5.0",
            "_model_name": "HTMLModel",
            "_view_count": null,
            "_view_module": "@jupyter-widgets/controls",
            "_view_module_version": "1.5.0",
            "_view_name": "HTMLView",
            "description": "",
            "description_tooltip": null,
            "layout": "IPY_MODEL_8d7c87d01a4346cda8b73852f1c458b6",
            "placeholder": "​",
            "style": "IPY_MODEL_f0fc9a66fe6040e08c68f5e91ada28e3",
            "value": " Tempo estimado para entrega: 00:00"
          }
        },
        "cb096d4a588247769361dc28affb8c7c": {
          "model_module": "@jupyter-widgets/base",
          "model_name": "LayoutModel",
          "model_module_version": "1.2.0",
          "state": {
            "_model_module": "@jupyter-widgets/base",
            "_model_module_version": "1.2.0",
            "_model_name": "LayoutModel",
            "_view_count": null,
            "_view_module": "@jupyter-widgets/base",
            "_view_module_version": "1.2.0",
            "_view_name": "LayoutView",
            "align_content": null,
            "align_items": null,
            "align_self": null,
            "border": null,
            "bottom": null,
            "display": null,
            "flex": null,
            "flex_flow": null,
            "grid_area": null,
            "grid_auto_columns": null,
            "grid_auto_flow": null,
            "grid_auto_rows": null,
            "grid_column": null,
            "grid_gap": null,
            "grid_row": null,
            "grid_template_areas": null,
            "grid_template_columns": null,
            "grid_template_rows": null,
            "height": null,
            "justify_content": null,
            "justify_items": null,
            "left": null,
            "margin": null,
            "max_height": null,
            "max_width": null,
            "min_height": null,
            "min_width": null,
            "object_fit": null,
            "object_position": null,
            "order": null,
            "overflow": null,
            "overflow_x": null,
            "overflow_y": null,
            "padding": null,
            "right": null,
            "top": null,
            "visibility": null,
            "width": null
          }
        },
        "1382a99cf763484386e5eb34748bdaec": {
          "model_module": "@jupyter-widgets/base",
          "model_name": "LayoutModel",
          "model_module_version": "1.2.0",
          "state": {
            "_model_module": "@jupyter-widgets/base",
            "_model_module_version": "1.2.0",
            "_model_name": "LayoutModel",
            "_view_count": null,
            "_view_module": "@jupyter-widgets/base",
            "_view_module_version": "1.2.0",
            "_view_name": "LayoutView",
            "align_content": null,
            "align_items": null,
            "align_self": null,
            "border": null,
            "bottom": null,
            "display": null,
            "flex": null,
            "flex_flow": null,
            "grid_area": null,
            "grid_auto_columns": null,
            "grid_auto_flow": null,
            "grid_auto_rows": null,
            "grid_column": null,
            "grid_gap": null,
            "grid_row": null,
            "grid_template_areas": null,
            "grid_template_columns": null,
            "grid_template_rows": null,
            "height": null,
            "justify_content": null,
            "justify_items": null,
            "left": null,
            "margin": null,
            "max_height": null,
            "max_width": null,
            "min_height": null,
            "min_width": null,
            "object_fit": null,
            "object_position": null,
            "order": null,
            "overflow": null,
            "overflow_x": null,
            "overflow_y": null,
            "padding": null,
            "right": null,
            "top": null,
            "visibility": null,
            "width": null
          }
        },
        "906ce70482114d42bfc81a0da29ff838": {
          "model_module": "@jupyter-widgets/controls",
          "model_name": "DescriptionStyleModel",
          "model_module_version": "1.5.0",
          "state": {
            "_model_module": "@jupyter-widgets/controls",
            "_model_module_version": "1.5.0",
            "_model_name": "DescriptionStyleModel",
            "_view_count": null,
            "_view_module": "@jupyter-widgets/base",
            "_view_module_version": "1.2.0",
            "_view_name": "StyleView",
            "description_width": ""
          }
        },
        "f6d4669a76804f48af7b05da6aaeaf3f": {
          "model_module": "@jupyter-widgets/base",
          "model_name": "LayoutModel",
          "model_module_version": "1.2.0",
          "state": {
            "_model_module": "@jupyter-widgets/base",
            "_model_module_version": "1.2.0",
            "_model_name": "LayoutModel",
            "_view_count": null,
            "_view_module": "@jupyter-widgets/base",
            "_view_module_version": "1.2.0",
            "_view_name": "LayoutView",
            "align_content": null,
            "align_items": null,
            "align_self": null,
            "border": null,
            "bottom": null,
            "display": null,
            "flex": null,
            "flex_flow": null,
            "grid_area": null,
            "grid_auto_columns": null,
            "grid_auto_flow": null,
            "grid_auto_rows": null,
            "grid_column": null,
            "grid_gap": null,
            "grid_row": null,
            "grid_template_areas": null,
            "grid_template_columns": null,
            "grid_template_rows": null,
            "height": null,
            "justify_content": null,
            "justify_items": null,
            "left": null,
            "margin": null,
            "max_height": null,
            "max_width": null,
            "min_height": null,
            "min_width": null,
            "object_fit": null,
            "object_position": null,
            "order": null,
            "overflow": null,
            "overflow_x": null,
            "overflow_y": null,
            "padding": null,
            "right": null,
            "top": null,
            "visibility": null,
            "width": null
          }
        },
        "e702d0e4a8aa476c90d9deb4fd943a26": {
          "model_module": "@jupyter-widgets/controls",
          "model_name": "ProgressStyleModel",
          "model_module_version": "1.5.0",
          "state": {
            "_model_module": "@jupyter-widgets/controls",
            "_model_module_version": "1.5.0",
            "_model_name": "ProgressStyleModel",
            "_view_count": null,
            "_view_module": "@jupyter-widgets/base",
            "_view_module_version": "1.2.0",
            "_view_name": "StyleView",
            "bar_color": null,
            "description_width": ""
          }
        },
        "8d7c87d01a4346cda8b73852f1c458b6": {
          "model_module": "@jupyter-widgets/base",
          "model_name": "LayoutModel",
          "model_module_version": "1.2.0",
          "state": {
            "_model_module": "@jupyter-widgets/base",
            "_model_module_version": "1.2.0",
            "_model_name": "LayoutModel",
            "_view_count": null,
            "_view_module": "@jupyter-widgets/base",
            "_view_module_version": "1.2.0",
            "_view_name": "LayoutView",
            "align_content": null,
            "align_items": null,
            "align_self": null,
            "border": null,
            "bottom": null,
            "display": null,
            "flex": null,
            "flex_flow": null,
            "grid_area": null,
            "grid_auto_columns": null,
            "grid_auto_flow": null,
            "grid_auto_rows": null,
            "grid_column": null,
            "grid_gap": null,
            "grid_row": null,
            "grid_template_areas": null,
            "grid_template_columns": null,
            "grid_template_rows": null,
            "height": null,
            "justify_content": null,
            "justify_items": null,
            "left": null,
            "margin": null,
            "max_height": null,
            "max_width": null,
            "min_height": null,
            "min_width": null,
            "object_fit": null,
            "object_position": null,
            "order": null,
            "overflow": null,
            "overflow_x": null,
            "overflow_y": null,
            "padding": null,
            "right": null,
            "top": null,
            "visibility": null,
            "width": null
          }
        },
        "f0fc9a66fe6040e08c68f5e91ada28e3": {
          "model_module": "@jupyter-widgets/controls",
          "model_name": "DescriptionStyleModel",
          "model_module_version": "1.5.0",
          "state": {
            "_model_module": "@jupyter-widgets/controls",
            "_model_module_version": "1.5.0",
            "_model_name": "DescriptionStyleModel",
            "_view_count": null,
            "_view_module": "@jupyter-widgets/base",
            "_view_module_version": "1.2.0",
            "_view_name": "StyleView",
            "description_width": ""
          }
        }
      }
    }
  },
  "nbformat": 4,
  "nbformat_minor": 0
}